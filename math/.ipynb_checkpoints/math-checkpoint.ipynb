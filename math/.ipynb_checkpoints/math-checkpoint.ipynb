{
 "cells": [
  {
   "cell_type": "code",
   "execution_count": 1,
   "id": "805da112-7925-4b20-8cdc-1dbe88ebf788",
   "metadata": {},
   "outputs": [],
   "source": [
    "import numpy as np"
   ]
  },
  {
   "cell_type": "code",
   "execution_count": 35,
   "id": "a679beb4-952d-482b-ae2f-aac037926b88",
   "metadata": {},
   "outputs": [
    {
     "name": "stdout",
     "output_type": "stream",
     "text": [
      "Addition [[ 3  6  9]\n",
      " [ 6  9 15]\n",
      " [ 6  9 21]]\n"
     ]
    }
   ],
   "source": [
    "#vector\n",
    "v = np.array([1,2,3])\n",
    "\n",
    "# matrice\n",
    "A = np.array([[1,2,3], [2,3,5],[2,3,7]])\n",
    "B = 2 * A\n",
    "print(\"Addition\", A + B)"
   ]
  },
  {
   "cell_type": "code",
   "execution_count": 36,
   "id": "ddbaa54a-5628-4761-86e0-324e5b25c017",
   "metadata": {},
   "outputs": [
    {
     "data": {
      "text/plain": [
       "array([[ 22,  34,  68],\n",
       "       [ 36,  56, 112],\n",
       "       [ 44,  68, 140]])"
      ]
     },
     "execution_count": 36,
     "metadata": {},
     "output_type": "execute_result"
    }
   ],
   "source": [
    "# Matrix Multiplication\n",
    "dot_product = np.dot(A, B)\n",
    "dot_product"
   ]
  },
  {
   "cell_type": "code",
   "execution_count": 37,
   "id": "156affa9-0f80-4f67-b8c1-f1fe839ea36e",
   "metadata": {},
   "outputs": [
    {
     "data": {
      "text/plain": [
       "array([[1., 0., 0., 0., 0.],\n",
       "       [0., 1., 0., 0., 0.],\n",
       "       [0., 0., 1., 0., 0.],\n",
       "       [0., 0., 0., 1., 0.],\n",
       "       [0., 0., 0., 0., 1.]])"
      ]
     },
     "execution_count": 37,
     "metadata": {},
     "output_type": "execute_result"
    }
   ],
   "source": [
    "# Identity Matrix\n",
    "I = np.eye(5)\n",
    "I"
   ]
  },
  {
   "cell_type": "code",
   "execution_count": 38,
   "id": "13b81fbe-82dc-4c90-afc2-ea8fb8ba87ed",
   "metadata": {},
   "outputs": [
    {
     "data": {
      "text/plain": [
       "array([[0., 0., 0.],\n",
       "       [0., 0., 0.],\n",
       "       [0., 0., 0.],\n",
       "       [0., 0., 0.],\n",
       "       [0., 0., 0.]])"
      ]
     },
     "execution_count": 38,
     "metadata": {},
     "output_type": "execute_result"
    }
   ],
   "source": [
    "# Zero Matrix\n",
    "Z = np.zeros((5,3))\n",
    "Z"
   ]
  },
  {
   "cell_type": "code",
   "execution_count": 39,
   "id": "db01027c-4e2c-4532-b2be-4c6c2206d2fe",
   "metadata": {},
   "outputs": [
    {
     "data": {
      "text/plain": [
       "array([[1, 0, 0],\n",
       "       [0, 2, 0],\n",
       "       [0, 0, 3]])"
      ]
     },
     "execution_count": 39,
     "metadata": {},
     "output_type": "execute_result"
    }
   ],
   "source": [
    "# Diagonal Matrix\n",
    "D = np.diag([1,2,3])\n",
    "D"
   ]
  },
  {
   "cell_type": "code",
   "execution_count": 40,
   "id": "1b008329-c9dc-4503-8648-6fd7694f00a9",
   "metadata": {},
   "outputs": [
    {
     "data": {
      "text/plain": [
       "np.float64(-2.0)"
      ]
     },
     "execution_count": 40,
     "metadata": {},
     "output_type": "execute_result"
    }
   ],
   "source": [
    "# determinant of a matrix\n",
    "determinant = np.linalg.det(A)\n",
    "determinant"
   ]
  },
  {
   "cell_type": "code",
   "execution_count": 41,
   "id": "70e0f0ea-6206-4edc-82b1-e801cf0e161a",
   "metadata": {},
   "outputs": [
    {
     "data": {
      "text/plain": [
       "array([[-3. ,  2.5, -0.5],\n",
       "       [ 2. , -0.5, -0.5],\n",
       "       [ 0. , -0.5,  0.5]])"
      ]
     },
     "execution_count": 41,
     "metadata": {},
     "output_type": "execute_result"
    }
   ],
   "source": [
    "# inverse of a matrix\n",
    "inverse = np.linalg.inv(A)\n",
    "inverse"
   ]
  },
  {
   "cell_type": "code",
   "execution_count": 42,
   "id": "3d2fa8c3-5ce1-4ac3-a8b8-d6e591227100",
   "metadata": {},
   "outputs": [],
   "source": [
    "# if det(A)=0 A is singular, not invertible"
   ]
  },
  {
   "cell_type": "code",
   "execution_count": 43,
   "id": "5aa51af3-9c93-4a5b-aa55-e26785cc139e",
   "metadata": {},
   "outputs": [
    {
     "data": {
      "text/plain": [
       "array([[1., 0., 0.],\n",
       "       [0., 1., 0.],\n",
       "       [0., 0., 1.]])"
      ]
     },
     "execution_count": 43,
     "metadata": {},
     "output_type": "execute_result"
    }
   ],
   "source": [
    "np.dot(inverse, A)"
   ]
  },
  {
   "cell_type": "markdown",
   "id": "6f74b057-a0b4-4791-8eb1-e02be43e3bb9",
   "metadata": {},
   "source": [
    "### eigenvalues and eigenvectors\n",
    "\n",
    "If A.v=lamba.v\n",
    "\n",
    "**v** is an **eigenvector** and **lambda** is the **eigenvalue**\n",
    "\n",
    "#### geometric interpretation\n",
    "- Eigenvectors point in the direction where the matrix transformation stretches or compresses vectors\n",
    "- Eigenvalues indicate the factor of stretching ır compression\n",
    "- det(A - lambda*I)=0"
   ]
  },
  {
   "cell_type": "code",
   "execution_count": 44,
   "id": "eedaa9fd-9696-4a74-bff4-2c91860ad359",
   "metadata": {},
   "outputs": [],
   "source": [
    "eigenvalues, eigenvectors = np.linalg.eig(A)\n"
   ]
  },
  {
   "cell_type": "markdown",
   "id": "951172d9-e951-4dd7-8770-3b9c8822560d",
   "metadata": {},
   "source": [
    "### Matrix Decomposition\n",
    "breaking a matrix into sipler components to analyze or solve problems\n",
    "\n",
    "#### Singular Value Decomposition (svd)\n",
    "**A=U.S.V^T**\n",
    "- **U**: Left singular vectors\n",
    "- **S**: Diagonal matrix of singular values (non-negative)\n",
    "- **V^T**: Right singular vectors"
   ]
  },
  {
   "cell_type": "code",
   "execution_count": 46,
   "id": "906cc8fe-e2a2-4b71-957c-54630da3592e",
   "metadata": {},
   "outputs": [
    {
     "name": "stdout",
     "output_type": "stream",
     "text": [
      "[[-0.34933571 -0.45862471 -0.81708502]\n",
      " [-0.57732763 -0.58148154  0.57321203]\n",
      " [-0.73800906  0.67196919 -0.06164445]]\n"
     ]
    }
   ],
   "source": [
    "U, S, Vt = np.linalg.svd(A)\n",
    "print(U)"
   ]
  },
  {
   "cell_type": "code",
   "execution_count": 47,
   "id": "e57cb325-574d-4e9b-b260-540d7c73bb77",
   "metadata": {},
   "outputs": [
    {
     "name": "stdout",
     "output_type": "stream",
     "text": [
      "[10.64313952  0.81911642  0.2294112 ]\n"
     ]
    }
   ],
   "source": [
    "print(S)"
   ]
  },
  {
   "cell_type": "code",
   "execution_count": 48,
   "id": "cc38cc62-23d7-4569-9a77-380e5969397f",
   "metadata": {},
   "outputs": [
    {
     "name": "stdout",
     "output_type": "stream",
     "text": [
      "[[-0.27999342 -0.43640145 -0.85507746]\n",
      " [-0.3389621  -0.78839402  0.51336104]\n",
      " [ 0.89816946 -0.43357657 -0.07282159]]\n"
     ]
    }
   ],
   "source": [
    "print(Vt)"
   ]
  },
  {
   "cell_type": "code",
   "execution_count": 51,
   "id": "97240f09-1924-4898-b56c-4d02a76d4f75",
   "metadata": {},
   "outputs": [
    {
     "data": {
      "text/plain": [
       "array([[1., 2., 3.],\n",
       "       [2., 3., 5.],\n",
       "       [2., 3., 7.]])"
      ]
     },
     "execution_count": 51,
     "metadata": {},
     "output_type": "execute_result"
    }
   ],
   "source": [
    "# Reconstruct\n",
    "Sigma = np.zeros((3,3))\n",
    "\n",
    "np.fill_diagonal(Sigma, S)\n",
    "#or\n",
    "diag = np.diag(S)\n",
    "\n",
    "reconstructed = U @ diag @ Vt\n",
    "reconstructed\n"
   ]
  },
  {
   "cell_type": "markdown",
   "id": "17354ad8-89a9-4b2d-879c-3d9545fefe23",
   "metadata": {},
   "source": [
    "### Derivatives"
   ]
  },
  {
   "cell_type": "code",
   "execution_count": 52,
   "id": "8449db48-6fea-4975-a541-1b3c7158bdc0",
   "metadata": {},
   "outputs": [],
   "source": [
    "import sympy as sp"
   ]
  },
  {
   "cell_type": "code",
   "execution_count": 56,
   "id": "ec5a44c5-5a5e-473d-b983-0dd691f59df5",
   "metadata": {},
   "outputs": [
    {
     "data": {
      "text/latex": [
       "$\\displaystyle 2 x$"
      ],
      "text/plain": [
       "2*x"
      ]
     },
     "execution_count": 56,
     "metadata": {},
     "output_type": "execute_result"
    }
   ],
   "source": [
    "x = sp.Symbol(\"x\")\n",
    "f = x**2\n",
    "\n",
    "derivative = sp.diff(f, x)\n",
    "derivative"
   ]
  },
  {
   "cell_type": "markdown",
   "id": "7689aa67-ca4d-4fd4-be7b-bc35f0a0a5c4",
   "metadata": {},
   "source": [
    "### Partial derivatives\n",
    "\n",
    "**Gradient:** Vector of all partial derivatives, indicating the direction of the steepest ascent"
   ]
  },
  {
   "cell_type": "code",
   "execution_count": 57,
   "id": "a89ae220-0d2e-4383-9bf7-b587ce1e2487",
   "metadata": {},
   "outputs": [
    {
     "name": "stdout",
     "output_type": "stream",
     "text": [
      "2*x\n",
      "2*y\n"
     ]
    }
   ],
   "source": [
    "x, y = sp.symbols(\"x y\")\n",
    "f = x**2 + y**2\n",
    "\n",
    "grad_x = sp.diff(f, x)\n",
    "grad_y = sp.diff(f, y)\n",
    "\n",
    "print(grad_x)\n",
    "print(grad_y)"
   ]
  },
  {
   "cell_type": "markdown",
   "id": "e6379050-727a-49b0-8770-f541241f8115",
   "metadata": {},
   "source": [
    "#### Gradient Deescent Optimization Alghorithm\n",
    "- Iterative optimization algorithm used to minimize a function\n",
    "- Updates parameters in the direction of the negative gradient to find the minimum\n",
    "\n",
    "##### Update Rule: theta = theta - alpha*gradf(theta)\n",
    "- theta: parameters of the model\n",
    "- alpha: Learning rate (step size)"
   ]
  },
  {
   "cell_type": "code",
   "execution_count": 109,
   "id": "c03f850c-0c90-4d35-807c-263691f952b0",
   "metadata": {},
   "outputs": [],
   "source": [
    "# gradient descent function\n",
    "def gradient_descent(X, y, theta, learning_rate, iteration):\n",
    "    m = len(y)\n",
    "    for _ in range(iteration):\n",
    "        predictions = np.dot(X, theta)\n",
    "        errors = predictions - y\n",
    "        gradients = (1/m) * np.dot(X.T, errors)\n",
    "        theta -= learning_rate * gradients\n",
    "    return theta"
   ]
  },
  {
   "cell_type": "code",
   "execution_count": 110,
   "id": "3c46ebec-c4f8-43a8-be07-fa0f06f3ad41",
   "metadata": {},
   "outputs": [
    {
     "data": {
      "text/plain": [
       "array([1.49999426, 0.50000253])"
      ]
     },
     "execution_count": 110,
     "metadata": {},
     "output_type": "execute_result"
    }
   ],
   "source": [
    "# Sample Data\n",
    "X = np.array([[1,1], [1,2], [1,3]])\n",
    "y = np.array([2,2.5,3])\n",
    "\n",
    "theta = np.array([0.1, 0.1])\n",
    "learning_rate = 0.1\n",
    "iteration = 1000\n",
    "\n",
    "# Performing Algorithm\n",
    "optimized_theta = gradient_descent(X, y, theta, learning_rate, iteration)\n",
    "optimized_theta"
   ]
  },
  {
   "cell_type": "markdown",
   "id": "f755606b-759b-49d0-a78c-1a4355aa59e1",
   "metadata": {},
   "source": [
    "### Integrals\n",
    "\n",
    "- Compute the area under a curve, represanting accumulation"
   ]
  },
  {
   "cell_type": "code",
   "execution_count": 111,
   "id": "ea6042c0-f9e2-42ae-9ff6-c2900bc14608",
   "metadata": {},
   "outputs": [
    {
     "data": {
      "text/latex": [
       "$\\displaystyle \\frac{8}{3}$"
      ],
      "text/plain": [
       "8/3"
      ]
     },
     "execution_count": 111,
     "metadata": {},
     "output_type": "execute_result"
    }
   ],
   "source": [
    "f = x**2\n",
    "definite_integral = sp.integrate(f, (x, 0, 2))\n",
    "definite_integral"
   ]
  },
  {
   "cell_type": "code",
   "execution_count": 112,
   "id": "186fb1a4-4839-44b3-85b7-16803a1ac5ae",
   "metadata": {},
   "outputs": [
    {
     "data": {
      "text/latex": [
       "$\\displaystyle \\frac{x^{3}}{3}$"
      ],
      "text/plain": [
       "x**3/3"
      ]
     },
     "execution_count": 112,
     "metadata": {},
     "output_type": "execute_result"
    }
   ],
   "source": [
    "indefinite_integral = sp.integrate(f, x)\n",
    "indefinite_integral"
   ]
  },
  {
   "cell_type": "markdown",
   "id": "e7fca5d0-c472-4f1c-842d-6c27af9ad167",
   "metadata": {},
   "source": [
    "### Optimization Concepts\n",
    "- Local Minima, Global Minima\n",
    "\n",
    "#### Convex Func\n",
    "- f(lambda*x_1 + (1-lambda)x_2) <= lambda*f(x_1) + (1 - lambda)f(x_2) for all lambda element of [0,1]\n",
    "- Ensures that any local minimum is also a global minumum\n",
    "\n",
    "#### Non-Convex Functions\n",
    "- Most neural network loss functions"
   ]
  },
  {
   "cell_type": "code",
   "execution_count": null,
   "id": "24008bfa-caea-423d-b8c4-f27d3676644a",
   "metadata": {},
   "outputs": [],
   "source": []
  },
  {
   "cell_type": "markdown",
   "id": "ae5a9feb-6f1e-4b34-9917-6a42c278b0a2",
   "metadata": {},
   "source": [
    "### Stochastic Gradient Descent (SGD) and Its Variants\n",
    "- It is a optimization algorithm that uses random subsets of the data to compute gradients and update parameters\n",
    "\n",
    "##### Why?\n",
    "- Faster convergence for large data sets compared to batch gradient descent\n",
    "\n",
    "##### Variants of SGD\n",
    "- Mini Batch SGD, updates parameters using small batches instead of single examples\n",
    "- Momentum, adds a fraction of the previous update to current update to accelerate the convergence\n",
    "- Adam Optimizer, combines momentum with adaptive learning rates for faster convergence"
   ]
  },
  {
   "cell_type": "code",
   "execution_count": null,
   "id": "136271ce-6f2c-4763-b14c-fc1c91fb8631",
   "metadata": {},
   "outputs": [],
   "source": []
  }
 ],
 "metadata": {
  "kernelspec": {
   "display_name": "Python (ds-bootcamp)",
   "language": "python",
   "name": "ds-bootcamp"
  },
  "language_info": {
   "codemirror_mode": {
    "name": "ipython",
    "version": 3
   },
   "file_extension": ".py",
   "mimetype": "text/x-python",
   "name": "python",
   "nbconvert_exporter": "python",
   "pygments_lexer": "ipython3",
   "version": "3.13.7"
  }
 },
 "nbformat": 4,
 "nbformat_minor": 5
}
