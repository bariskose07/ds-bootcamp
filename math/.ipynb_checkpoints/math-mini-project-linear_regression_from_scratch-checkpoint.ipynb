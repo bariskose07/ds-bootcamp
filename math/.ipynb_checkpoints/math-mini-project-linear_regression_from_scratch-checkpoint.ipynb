{
 "cells": [
  {
   "cell_type": "markdown",
   "id": "e6f09811-5164-4dff-9720-f63ed6135230",
   "metadata": {},
   "source": [
    "### Linear Regression from Scratch"
   ]
  },
  {
   "cell_type": "markdown",
   "id": "31336a71-e10a-43a3-89cd-0439c7bf3312",
   "metadata": {},
   "source": [
    "#### Linear Algebra\n",
    "##### Mathematical Model y^=X.theta\n",
    "- X: Feature Matrix\n",
    "- theta: parameters(weights and bias)\n",
    "- y^: Predicted values"
   ]
  },
  {
   "cell_type": "markdown",
   "id": "5a108658-bbea-4810-bf6e-de289c45d327",
   "metadata": {},
   "source": [
    "#### Calculus\n",
    "- Optimization of theta involves minimizing the loss function\n",
    "- Loss func: J(theta) = 1/(2m) * sum_from_1_to_m((y^_i - y_i)**2)\n",
    "- Gradient of J(theta) = 1/m(X.T(X.theta - y))"
   ]
  },
  {
   "cell_type": "markdown",
   "id": "ff015d32-1884-47d8-9169-9aa3af434403",
   "metadata": {},
   "source": [
    "#### Statistics\n",
    "- Metrics like Mean Squared Error (MSE) and R^2 are used to evaluate model performance"
   ]
  },
  {
   "cell_type": "markdown",
   "id": "ccd00824-91c6-4c12-802b-45b3c76a174e",
   "metadata": {},
   "source": [
    "#### Using Gradient Descent for Parameter Optimization\n",
    "- Iteratively update theta using theta:= theta - alpha.gradientJ where alpha is learning rate"
   ]
  },
  {
   "cell_type": "markdown",
   "id": "a0123fc3-9bc9-4ede-bcd0-3079078ea0a8",
   "metadata": {},
   "source": [
    "#### Evaluating the Model Statistical Metrics\n",
    "- Mean Squared Error: MSE = 1/(m) * sum_from_1_to_m((y^_i - y_i)**2)= 2 * J(theta) (Measures the average squared error)\n",
    "- R-squared (R^2) = 1 - (SS_res / SS_tot) (Measures how well the regression line explains the variance in the data)"
   ]
  },
  {
   "cell_type": "code",
   "execution_count": null,
   "id": "98ede8e4-e993-4793-8bf0-05d9878ff4f4",
   "metadata": {},
   "outputs": [],
   "source": []
  }
 ],
 "metadata": {
  "kernelspec": {
   "display_name": "Python (ds-bootcamp)",
   "language": "python",
   "name": "ds-bootcamp"
  },
  "language_info": {
   "codemirror_mode": {
    "name": "ipython",
    "version": 3
   },
   "file_extension": ".py",
   "mimetype": "text/x-python",
   "name": "python",
   "nbconvert_exporter": "python",
   "pygments_lexer": "ipython3",
   "version": "3.13.7"
  }
 },
 "nbformat": 4,
 "nbformat_minor": 5
}
