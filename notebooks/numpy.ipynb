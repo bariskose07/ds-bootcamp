{
 "cells": [
  {
   "cell_type": "code",
   "execution_count": 1,
   "id": "a43791a1-ff9e-49a8-9c7b-c541949b2d68",
   "metadata": {},
   "outputs": [],
   "source": [
    "import numpy as np"
   ]
  },
  {
   "cell_type": "markdown",
   "id": "6a376734-a7c1-4403-9e12-0b267f492b2f",
   "metadata": {},
   "source": [
    "### Numpy Basics"
   ]
  },
  {
   "cell_type": "code",
   "execution_count": 14,
   "id": "1f41b248-935f-4512-b79a-d5208f7739a6",
   "metadata": {},
   "outputs": [
    {
     "name": "stdout",
     "output_type": "stream",
     "text": [
      "[1 2 3 4]\n"
     ]
    }
   ],
   "source": [
    "# Creating arrays\n",
    "arr = np.array([1, 2, 3, 4])\n",
    "print(arr)"
   ]
  },
  {
   "cell_type": "code",
   "execution_count": 33,
   "id": "4aa90173-ba04-4188-9706-933385346846",
   "metadata": {},
   "outputs": [
    {
     "name": "stdout",
     "output_type": "stream",
     "text": [
      "[[0. 0. 0.]\n",
      " [0. 0. 0.]\n",
      " [0. 0. 0.]]\n",
      "[[1. 1. 1.]\n",
      " [1. 1. 1.]\n",
      " [1. 1. 1.]]\n"
     ]
    }
   ],
   "source": [
    "# Zeros matrix\n",
    "zeros = np.zeros((3, 3))\n",
    "print(zeros)\n",
    "\n",
    "# Ones matrix\n",
    "zeros = np.ones((3, 3))\n",
    "print(zeros)"
   ]
  },
  {
   "cell_type": "code",
   "execution_count": 34,
   "id": "75d93955-3d42-4bb5-948b-abd97f9236b0",
   "metadata": {},
   "outputs": [
    {
     "data": {
      "text/plain": [
       "array([1, 3, 5, 7])"
      ]
     },
     "execution_count": 34,
     "metadata": {},
     "output_type": "execute_result"
    }
   ],
   "source": [
    "range_array = np.arange(start=1, stop=9, step=2)\n",
    "range_array"
   ]
  },
  {
   "cell_type": "code",
   "execution_count": 35,
   "id": "26ebfd4d-6537-4d34-9881-04f19fb2197a",
   "metadata": {},
   "outputs": [
    {
     "data": {
      "text/plain": [
       "array([0. , 0.1, 0.2, 0.3, 0.4, 0.5, 0.6, 0.7, 0.8, 0.9, 1. ])"
      ]
     },
     "execution_count": 35,
     "metadata": {},
     "output_type": "execute_result"
    }
   ],
   "source": [
    "linspace_array = np.linspace(0, 1, 11)\n",
    "linspace_array"
   ]
  },
  {
   "cell_type": "code",
   "execution_count": 36,
   "id": "e363f807-5a95-4a36-b33c-86079188b9ba",
   "metadata": {},
   "outputs": [
    {
     "data": {
      "text/plain": [
       "array([[1, 2],\n",
       "       [3, 4]])"
      ]
     },
     "execution_count": 36,
     "metadata": {},
     "output_type": "execute_result"
    }
   ],
   "source": [
    "# Manipulating arrays\n",
    "reshaped_array = arr.reshape((2, 2))\n",
    "reshaped_array"
   ]
  },
  {
   "cell_type": "code",
   "execution_count": 37,
   "id": "b584c261-00a1-4489-ab1b-6be14460e250",
   "metadata": {},
   "outputs": [
    {
     "data": {
      "text/plain": [
       "array([[1],\n",
       "       [2],\n",
       "       [3],\n",
       "       [4]])"
      ]
     },
     "execution_count": 37,
     "metadata": {},
     "output_type": "execute_result"
    }
   ],
   "source": [
    "expanded_array = arr[:, np.newaxis]\n",
    "expanded_array"
   ]
  },
  {
   "cell_type": "code",
   "execution_count": 38,
   "id": "87c80d81-9a09-4caf-b076-9b7764e32de3",
   "metadata": {},
   "outputs": [
    {
     "name": "stdout",
     "output_type": "stream",
     "text": [
      "Addition:  [5 7 9]\n",
      "Multiplication:  [ 4 10 18]\n",
      "Division:  [0.25 0.4  0.5 ]\n",
      "Square root:  [1.         1.41421356 1.73205081]\n",
      "Sum:  6\n",
      "Mean:  2.0\n",
      "Max:  3\n",
      "Min:  1\n"
     ]
    }
   ],
   "source": [
    "a = np.array([1, 2, 3])\n",
    "b = np.array([4, 5, 6])\n",
    "\n",
    "print(\"Addition: \", a + b)\n",
    "print(\"Multiplication: \", a * b)\n",
    "print(\"Division: \", a / b)\n",
    "print(\"Square root: \", np.sqrt(a))\n",
    "print(\"Sum: \", np.sum(a))\n",
    "print(\"Mean: \", np.mean(a))\n",
    "print(\"Max: \", np.max(a))\n",
    "print(\"Min: \", np.min(a))"
   ]
  },
  {
   "cell_type": "code",
   "execution_count": 39,
   "id": "5d4328a1-6430-4e65-a8f3-0e5eb563c0d7",
   "metadata": {},
   "outputs": [
    {
     "name": "stdout",
     "output_type": "stream",
     "text": [
      "3\n",
      "[1 2 3]\n",
      "[4]\n",
      "[2 3 4]\n"
     ]
    },
    {
     "data": {
      "text/plain": [
       "array([[1, 2],\n",
       "       [3, 4]])"
      ]
     },
     "execution_count": 39,
     "metadata": {},
     "output_type": "execute_result"
    }
   ],
   "source": [
    "# Array indexing, slicing, reshaping\n",
    "print(arr[2])\n",
    "\n",
    "print(arr[:3])\n",
    "print(arr[3:])\n",
    "print(arr[1:4])\n",
    "\n",
    "reshaped_array = arr.reshape((2, 2))\n",
    "reshaped_array"
   ]
  },
  {
   "cell_type": "code",
   "execution_count": 51,
   "id": "d923caa3-be23-4a38-bf2c-428209737bd3",
   "metadata": {},
   "outputs": [
    {
     "name": "stdout",
     "output_type": "stream",
     "text": [
      "Original Matrix:\n",
      "  [[1 2 3]\n",
      " [4 5 6]\n",
      " [7 8 9]]\n",
      "\n",
      "Another Matrix:\n",
      "  [[10 11 12]\n",
      " [13 14 15]\n",
      " [16 17 18]]\n",
      "\n",
      "Transpose:\n",
      "  [[1 4 7]\n",
      " [2 5 8]\n",
      " [3 6 9]]\n",
      "\n",
      "Addition:\n",
      "  [[11 13 15]\n",
      " [17 19 21]\n",
      " [23 25 27]]\n",
      "\n",
      "Multiplication:\n",
      "  [[ 10  22  36]\n",
      " [ 52  70  90]\n",
      " [112 136 162]]\n"
     ]
    }
   ],
   "source": [
    "matrix = np.arange(1, 10).reshape((3,3))\n",
    "another_matrix = np.arange(10, 19).reshape((3,3))\n",
    "print(\"Original Matrix:\\n \", matrix)\n",
    "print()\n",
    "print(\"Another Matrix:\\n \", another_matrix)\n",
    "print()\n",
    "print(\"Transpose:\\n \", matrix.T)\n",
    "print()\n",
    "\n",
    "print(\"Addition:\\n \", matrix + another_matrix)\n",
    "print()\n",
    "print(\"Multiplication:\\n \", matrix * another_matrix)"
   ]
  },
  {
   "cell_type": "markdown",
   "id": "a61bc766-5819-4105-98ed-4dafa8a65288",
   "metadata": {},
   "source": [
    "### Advanced Numpy Operations"
   ]
  },
  {
   "cell_type": "markdown",
   "id": "024df989-0ca8-4232-9508-99d9186c658e",
   "metadata": {},
   "source": [
    "#### Broadcasting\n",
    "- Broadcasting allows numpy to perform arithmetic operations on arrays of different shapes. Smaller arrays are automatically expanded to match the shape of the larger arrays.\n",
    "- **Rules:**\n",
    "  - Dimensions are aligned from the right\n",
    "  - A dimension is **compatible** if:\n",
    "    - It matches the other array's dimension\n",
    "    - One of the dimensions is 1."
   ]
  },
  {
   "cell_type": "code",
   "execution_count": 52,
   "id": "8a7921e9-49bf-4619-a3b3-394bb970d326",
   "metadata": {},
   "outputs": [
    {
     "name": "stdout",
     "output_type": "stream",
     "text": [
      "[11 12 13 14]\n"
     ]
    }
   ],
   "source": [
    "# Array and scalar broadcasting\n",
    "print(arr + 10)"
   ]
  },
  {
   "cell_type": "code",
   "execution_count": 93,
   "id": "5d923357-542c-455c-986b-258f75b3a535",
   "metadata": {},
   "outputs": [
    {
     "name": "stdout",
     "output_type": "stream",
     "text": [
      "[[1 2 3]\n",
      " [4 5 6]] \n",
      "Vector:  [1 0 1]\n",
      "[[2 2 4]\n",
      " [5 5 7]]\n",
      "[[ 2  4  6]\n",
      " [ 8 10 12]]\n"
     ]
    }
   ],
   "source": [
    "matrix = np.arange(1, 7).reshape((2, 3))\n",
    "vector = np.array([1, 0, 1])\n",
    "print(matrix, \"\\nVector: \", vector)\n",
    "print(matrix + vector)\n",
    "print(matrix * 2)"
   ]
  },
  {
   "cell_type": "markdown",
   "id": "d096e179-9202-4333-a41f-343cdc4721af",
   "metadata": {},
   "source": [
    "#### Aggregation Functions\n",
    "- Aggregation functions compute summary statistics for arrays"
   ]
  },
  {
   "cell_type": "code",
   "execution_count": 68,
   "id": "af03bdba-7069-4548-810e-7aac7b803d17",
   "metadata": {},
   "outputs": [
    {
     "name": "stdout",
     "output_type": "stream",
     "text": [
      "Sum:  21\n",
      "Mean:  3.5\n",
      "Max:  6\n",
      "Min:  1\n",
      "Standart Deviation:  1.707825127659933\n",
      "Sum along rows:  [ 6 15]\n",
      "Sum along columns:  [5 7 9]\n"
     ]
    }
   ],
   "source": [
    "# Common agg functions\n",
    "matrix = np.arange(1, 7).reshape((2, 3))\n",
    "print(\"Sum: \", np.sum(matrix))\n",
    "print(\"Mean: \", np.mean(matrix))\n",
    "print(\"Max: \", np.max(matrix))\n",
    "print(\"Min: \", np.min(matrix))\n",
    "print(\"Standart Deviation: \", np.std(matrix))\n",
    "print(\"Sum along rows: \", np.sum(matrix, axis=1)) # axis=1 rows\n",
    "print(\"Sum along columns: \", np.sum(matrix, axis=0)) # axis=0 columns"
   ]
  },
  {
   "cell_type": "code",
   "execution_count": 71,
   "id": "cc074cce-e4e4-42dd-949a-8c96f615ac04",
   "metadata": {},
   "outputs": [
    {
     "name": "stdout",
     "output_type": "stream",
     "text": [
      "[1 2 3 4]\n",
      "[2 4]\n",
      "Modified array:  [1 2 3 0]\n"
     ]
    }
   ],
   "source": [
    "# Boolean indexing and filtering\n",
    "print(arr)\n",
    "\n",
    "evens = arr[arr % 2 == 0]\n",
    "print(evens)\n",
    "\n",
    "arr[arr > 3] = 0\n",
    "print(\"Modified array: \", arr)"
   ]
  },
  {
   "cell_type": "code",
   "execution_count": 92,
   "id": "1a9dc8f5-605f-4fe4-978a-fabdb8c771d8",
   "metadata": {},
   "outputs": [
    {
     "name": "stdout",
     "output_type": "stream",
     "text": [
      "Random Matrix:\n",
      " [[0.37454012 0.95071431 0.73199394]\n",
      " [0.59865848 0.15601864 0.15599452]\n",
      " [0.05808361 0.86617615 0.60111501]]\n",
      "randint:\n",
      " [[7 2 5]]\n"
     ]
    }
   ],
   "source": [
    "# Random number generation and setting seeds\n",
    "np.random.seed(42)\n",
    "\n",
    "random_matrix = np.random.rand(3, 3)\n",
    "print(\"Random Matrix:\\n\", random_matrix)\n",
    "\n",
    "random_integers = np.random.randint(0, high=10, size=(1, 3))\n",
    "print(\"randint:\\n\", random_integers)"
   ]
  },
  {
   "cell_type": "code",
   "execution_count": null,
   "id": "b5e32943-5a4a-4eed-a732-863b3e6e2f84",
   "metadata": {},
   "outputs": [],
   "source": []
  }
 ],
 "metadata": {
  "kernelspec": {
   "display_name": "Python (ds-bootcamp)",
   "language": "python",
   "name": "ds-bootcamp"
  },
  "language_info": {
   "codemirror_mode": {
    "name": "ipython",
    "version": 3
   },
   "file_extension": ".py",
   "mimetype": "text/x-python",
   "name": "python",
   "nbconvert_exporter": "python",
   "pygments_lexer": "ipython3",
   "version": "3.13.7"
  }
 },
 "nbformat": 4,
 "nbformat_minor": 5
}
