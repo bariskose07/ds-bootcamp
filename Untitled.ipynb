{
 "cells": [
  {
   "cell_type": "code",
   "execution_count": 8,
   "id": "e02eb108-f512-4556-b93f-1abd8fe8ff71",
   "metadata": {},
   "outputs": [
    {
     "name": "stdout",
     "output_type": "stream",
     "text": [
      "D:\\Python313\\python.exe\n",
      "CWD: D:\\projects\\ds-bootcamp\n"
     ]
    }
   ],
   "source": [
    "import sys, os; \n",
    "print(sys.executable);\n",
    "print(\"CWD:\", os.getcwd())"
   ]
  },
  {
   "cell_type": "code",
   "execution_count": 3,
   "id": "a97e3276-422e-4441-9e44-b7181f3f8a17",
   "metadata": {},
   "outputs": [
    {
     "name": "stdout",
     "output_type": "stream",
     "text": [
      "D:\\projects\\ds-bootcamp\\data D:\\projects\\ds-bootcamp\\sql\\queries D:\\projects\\ds-bootcamp\\sql\\results\n"
     ]
    }
   ],
   "source": [
    "from pathlib import Path\n",
    "ROOT = Path.cwd()\n",
    "(DATA := ROOT/\"data\").mkdir(exist_ok=True)\n",
    "(QUERY_DIR := ROOT/\"sql\"/\"queries\").mkdir(parents=True, exist_ok=True)\n",
    "(RESULT_DIR := ROOT/\"sql\"/\"results\").mkdir(parents=True, exist_ok=True)\n",
    "print(DATA, QUERY_DIR, RESULT_DIR)"
   ]
  },
  {
   "cell_type": "code",
   "execution_count": 12,
   "id": "2434527d-fd54-4732-aeeb-8d06a6224e73",
   "metadata": {},
   "outputs": [
    {
     "name": "stdout",
     "output_type": "stream",
     "text": [
      "DB: D:\\projects\\ds-bootcamp\\data\\Chinook_Sqlite.sqlite | Header: b'SQLite format 3\\x00'\n"
     ]
    }
   ],
   "source": [
    "import urllib.request, shutil\n",
    "\n",
    "db_url = \"https://github.com/lerocha/chinook-database/raw/master/ChinookDatabase/DataSources/Chinook_Sqlite.sqlite\"\n",
    "db_path = DATA / \"Chinook_Sqlite.sqlite\"\n",
    "\n",
    "if not db_path.exists():\n",
    "    with urllib.request.urlopen(db_url) as r, open(db_path, \"wb\") as f:\n",
    "        shutil.copyfileobj(r, f)\n",
    "\n",
    "# Hızlı bütünlük kontrolü: header \"SQLite format 3\\0\" olmalı\n",
    "with open(db_path, \"rb\") as f:\n",
    "    header = f.read(16)\n",
    "print(\"DB:\", db_path, \"| Header:\", header)"
   ]
  },
  {
   "cell_type": "code",
   "execution_count": 5,
   "id": "cca097ca-28f9-4437-bd04-37c3ca9cb286",
   "metadata": {},
   "outputs": [
    {
     "name": "stdout",
     "output_type": "stream",
     "text": [
      "Exists: True Size (bytes): 1067008\n",
      "Header: b'SQLite format 3\\x00'\n"
     ]
    }
   ],
   "source": [
    "from pathlib import Path\n",
    "p = Path(\"data/Chinook_Sqlite.sqlite\")\n",
    "print(\"Exists:\", p.exists(), \"Size (bytes):\", p.stat().st_size if p.exists() else None)\n",
    "\n",
    "# Header kontrolü: İlk 16 byte \"SQLite format 3\\0\" olmalı\n",
    "if p.exists():\n",
    "    with open(p, \"rb\") as f:\n",
    "        header = f.read(16)\n",
    "    print(\"Header:\", header)"
   ]
  },
  {
   "cell_type": "code",
   "execution_count": 6,
   "id": "938795dd-5ef5-460d-8f0e-1d3356865c48",
   "metadata": {},
   "outputs": [
    {
     "name": "stdout",
     "output_type": "stream",
     "text": [
      "sqlite version: 3.50.4\n"
     ]
    }
   ],
   "source": [
    "import sqlite3\n",
    "print(\"sqlite version:\", sqlite3.sqlite_version)"
   ]
  },
  {
   "cell_type": "code",
   "execution_count": 11,
   "id": "ca5406c8-68b7-4c74-bc07-110403777984",
   "metadata": {},
   "outputs": [
    {
     "name": "stdout",
     "output_type": "stream",
     "text": [
      "CWD: D:\\projects\\ds-bootcamp\n",
      "queries dir exists? True → D:\\projects\\ds-bootcamp\\sql\\queries\n",
      "[]\n",
      "Target exists? False → D:\\projects\\ds-bootcamp\\sql\\queries\\q02_rev_by_country.sql\n"
     ]
    }
   ],
   "source": [
    "import os\n",
    "from pathlib import Path\n",
    "\n",
    "print(\"CWD:\", os.getcwd())\n",
    "sql_dir = Path(\"sql/queries\")\n",
    "print(\"queries dir exists?\", sql_dir.exists(), \"→\", sql_dir.resolve())\n",
    "\n",
    "# Bu dizindeki dosyaları listele\n",
    "print([p.name for p in sql_dir.glob(\"*\")])\n",
    "\n",
    "# Aranan dosya tam yolu\n",
    "sql_path = sql_dir / \"q02_rev_by_country.sql\"\n",
    "print(\"Target exists?\", sql_path.exists(), \"→\", sql_path.resolve())\n",
    "\n",
    "# Her yerde ara (CWD altında)\n",
    "for p in Path(\".\").rglob(\"q02_rev_by_country.sql\"):\n",
    "    print(\"Found at:\", p.resolve())"
   ]
  },
  {
   "cell_type": "code",
   "execution_count": null,
   "id": "bd89f407-0d47-41d0-961c-e410441685fe",
   "metadata": {},
   "outputs": [],
   "source": []
  }
 ],
 "metadata": {
  "kernelspec": {
   "display_name": "Python (ds-bootcamp)",
   "language": "python",
   "name": "ds-bootcamp"
  },
  "language_info": {
   "codemirror_mode": {
    "name": "ipython",
    "version": 3
   },
   "file_extension": ".py",
   "mimetype": "text/x-python",
   "name": "python",
   "nbconvert_exporter": "python",
   "pygments_lexer": "ipython3",
   "version": "3.13.7"
  }
 },
 "nbformat": 4,
 "nbformat_minor": 5
}
