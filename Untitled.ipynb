{
 "cells": [
  {
   "cell_type": "code",
   "execution_count": 1,
   "id": "e02eb108-f512-4556-b93f-1abd8fe8ff71",
   "metadata": {},
   "outputs": [
    {
     "name": "stdout",
     "output_type": "stream",
     "text": [
      "D:\\Python313\\python.exe\n"
     ]
    }
   ],
   "source": [
    "import sys; \n",
    "print(sys.executable);"
   ]
  },
  {
   "cell_type": "code",
   "execution_count": null,
   "id": "a97e3276-422e-4441-9e44-b7181f3f8a17",
   "metadata": {},
   "outputs": [],
   "source": []
  }
 ],
 "metadata": {
  "kernelspec": {
   "display_name": "Python (ds-bootcamp)",
   "language": "python",
   "name": "ds-bootcamp"
  },
  "language_info": {
   "codemirror_mode": {
    "name": "ipython",
    "version": 3
   },
   "file_extension": ".py",
   "mimetype": "text/x-python",
   "name": "python",
   "nbconvert_exporter": "python",
   "pygments_lexer": "ipython3",
   "version": "3.13.7"
  }
 },
 "nbformat": 4,
 "nbformat_minor": 5
}
