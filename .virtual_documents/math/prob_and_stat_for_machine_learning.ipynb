


from itertools import product
import numpy as np
import matplotlib.pyplot as plt
from scipy.stats import (
                            uniform, norm, binom, poisson, skew, kurtosis, t,
                            ttest_1samp, ttest_ind, ttest_rel, chi2_contingency,
                            f_oneway, pearsonr, spearmanr
                        )
import pandas as pd
import seaborn as sns
from sklearn.linear_model import LinearRegression





from itertools import product

# Sample space pf a dice roll
sample_space = list(range(1, 7))

# Probability of rolling an even number
even_numbers = [2,4,6]
P_even = len(even_numbers) / len(sample_space)
P_even








# Random Variable dice roll
outcomes = np.array([1,2,3,4,5,6])
probabilities = np.array([1/6] * 6)

# Expectation
expectation = np.sum(outcomes * probabilities)

# Variance
variance = np.sum((outcomes - expectation)**2 * probabilities)

# Standart Deviation
std_dev = np.sqrt(variance)
std_dev


# Example 1: Rolling a dice 10000 times
rolls = np.random.randint(1, 7, size=10000)

# Calculating Probabilities
P_even = np.sum(rolls % 2 == 0) / len(rolls)
P_greater_than_4 = np.sum(rolls > 4) / len(rolls)
P_greater_than_4


# Example 2: Creating and analyzing Random Variables
# 2.1 Discrete random variable: Dice roll
plt.bar(outcomes, probabilities, alpha=0.3)
plt.title("PMF of a Dice Roll")
plt.xlabel("Outcomes")
plt.ylabel("Probability")
plt.show()


# 2.2 Continuous random variable: Uniform Distribution
x = np.linspace(0, 1, 100)
pdf = uniform.pdf(x, loc=0, scale=1)
plt.plot(x, pdf,)
plt.title("PDF of Uniform(0, 1) ")
plt.xlabel("x")
plt.ylabel("f(x)")
plt.show()








#Gaussian Distribution
x = np.linspace(-4, 4, 100)
plt.plot(x, norm.pdf(x, loc=0, scale=1), label="Gaussian (u=0, s=1)")

# Binomial Distribution
n, p = 10, 0.5
x = np.arange(0, n+1)
plt.bar(x, binom.pmf(x,n,p), alpha=0.4, label="Binomial (n=10, p=0.5)")

# Poisson Distribution
lam = 3
x = np.arange(0,10)
plt.bar(x, poisson.pmf(x, lam), alpha=0.4, label="Poisson (lambda = 3)", color="blue")

# Uniform Distribution
x = np.random.uniform(low=0, high=10, size=1000)
sns.histplot(x, kde=True, label="Uniform", color="red", alpha=0.4)

plt.title("Probability Distributions")
plt.legend()
plt.show()


# Analyzing a Dataset's Distribution

# Load Dataset 
url = "https://raw.githubusercontent.com/mwaskom/seaborn-data/master/iris.csv"
df = pd.read_csv(url)

# Analyze sepal_length
feature = df["sepal_length"]
print("Skewness: ", skew(feature))
print("Kurtosis: ", kurtosis(feature))

# Visualize distribution
sns.histplot(feature, kde=True)
plt.title("Distribution of Sepal Length")
plt.show()








# Sample data
data = [12,14,15,16,17,18,19]

# Calculate mean and std_dev
mean = np.mean(data)
std = np.std(data, ddof=1)

# 95% CI (using t-distribution)
n = len(data)
t_value = t.ppf(0.975, df=n-1)
margin_of_error = t_value * (std / np.sqrt(n))
ci = (mean - margin_of_error, mean + margin_of_error)
ci


# Conducting Sampling and Creating a Report
url = "https://raw.githubusercontent.com/mwaskom/seaborn-data/master/iris.csv"
df = pd.read_csv(url)

#Sampling
sample = df["sepal_length"].sample(30, random_state=42)

# Sample statistics
mean = sample.mean()
std = sample.std()
n = len(sample)

# Confidence Interval
z_value = norm.ppf(0.975)
margin_of_error = z_value * (std / np.sqrt(n))
ci = ((mean - margin_of_error, mean + margin_of_error))
print(mean)
print(ci)





# Performing Hypothesis test (One sample T-Test)
# Sample data
data = [12, 14, 15, 16, 17, 18, 19]

# NUll Hypothesis: mean = 15
population_mean = 15

# Perform t-test
t_stat, p_value = ttest_1samp(data, population_mean)
print("T-Statistics: ", t_stat)
print("P-Value: ", p_value)

# Interpret Results
alpha = 0.05
if p_value <= alpha:
    print("Reject the Null Hypothesis: significance difference")
else:
    print("Fail to Reject the Null Hypothesis: no significant difference")


# Two Sample T-Test
# Data from two groups
group1 = [12, 14, 15, 16, 17, 18, 19]
group2 = [11, 13, 14, 15, 16, 17, 18]

# Performing t-test
t_stat, p_value = ttest_ind(group1, group2)
print("T-Statistics: ", t_stat)
print("P-Value: ", p_value)

# Interpret Results
alpha = 0.05
if p_value <= alpha:
    print("Reject the Null Hypothesis: significance difference")
else:
    print("Fail to Reject the Null Hypothesis: no significant difference")





# Paired T-Test
pre_test = [12, 14, 15, 16, 17]
post_test = [13, 14, 16, 17, 18]

t_stat, p_value = ttest_rel(pre_test, post_test)
print("Paired T-Test: ", t_stat, p_value)





# Contingency Table
data =[[50,30, 20], [30,40, 30]]

# Perform Chi-Square Test
chi2, p, dof, expected = chi2_contingency(data)
print("Chi-Square Statistic: ", chi2)
print("P-Value: ", p)
print("Expected Frequencies:\n", expected)





# Data from three groups
group1 = [12,14,15,16,17]
group2 = [11,13,14,15,16]
group3 = [10,12,13,14,15]

# Perform ANOVA
f_stat, p_value = f_oneway(group1, group2, group3)
print("F-Statistic: ", f_stat)
print("P-Value: ", p_value)





x = np.array([1, 2, 3, 4, 5])
y = np.array([2, 4, 6, 8, 10])

# Pearson Correlation
r, _ = pearsonr(x, y)
print("Pearson Correlation Coefficient: ", r)

# Spearman Correlation
rho, _ = spearmanr(x, y)
print("Spearman Correlation Coefficient: ", rho)


correlation_matrix = df.corr()
sns.heatmap(correlation_matrix, annot=True, cmap="coolwarm")
plt.show()





x = np.array([1, 2, 3, 4, 5]).reshape(-1,1)
y = np.array([2, 4, 5, 8, 10])

# Fit Linear Regression
model = LinearRegression()
model.fit(x, y)

print("Slope: ", model.coef_[0])
print("Intercept: ", model.intercept_)
print("R-Squared: ", model.score(x, y))





np.random.seed(42)
x = np.random.randn(100, 1)
y = 3 * x + np.random.randn(100, 1) * 2

# Fit Linear Regression
model = LinearRegression()
model.fit(x, y)

print("Slope: ", model.coef_[0][0])
print("Intercept: ", model.intercept_[0])
print("R-Squared: ", model.score(x, y))

# Visualize
plt.scatter(x, y, color="blue", label="Data")
plt.plot(x, model.predict(x), color="red", label="Regression Line")
plt.legend()
plt.title("Linear Regression")
plt.show()



