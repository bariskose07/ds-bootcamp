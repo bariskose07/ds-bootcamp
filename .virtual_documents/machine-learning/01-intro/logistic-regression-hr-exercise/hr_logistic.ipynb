


import pandas as pd
import matplotlib.pyplot as plt
import seaborn as sns
from sklearn.linear_model import LogisticRegression
from sklearn.model_selection import train_test_split
from sklearn.metrics import accuracy_score, precision_score, recall_score, f1_score, classification_report


df = pd.read_csv("data/HR_comma_sep.csv")

df.head()





df.info()


num_cols = df.select_dtypes(include=['number']).columns.tolist()
num_cols


left = df[df["left"] == 1]
left.shape


retained = df[df["left"] == 0]
retained.shape


df[num_cols].groupby("left").describe().T


df.groupby("left").agg("mean", numeric_only=True)





df[num_cols].groupby("left").max()


df[num_cols].groupby("left").min()


cols = ['satisfaction_level', 'last_evaluation', 'number_project',
        'average_montly_hours', 'time_spend_company'
       ]

fig, axes = plt.subplots(2, 3, figsize=(15, 8))
axes = axes.ravel()

for i, col in enumerate(cols):
    sns.boxplot(data=df, x='left', y=col, ax=axes[i])
    axes[i].set_title(f'{col} - Outliers by Left Status')
    axes[i].set_xlabel('Left')

# delete the last subplot
fig.delaxes(axes[5])

plt.tight_layout()
plt.show()


# Employee Retention by Salary Level
plt.figure(figsize=(10, 6))
ax = sns.countplot(data=df, x='salary', hue='left', palette=['lightblue', 'salmon'])

# Count of the bar
for container in ax.containers:
    ax.bar_label(container, labels=[
        f'{v/len(df)*100:.1f}%' for v in container.datavalues
    ])

plt.title('Employee Retention by Salary Level')
plt.xlabel('Salary Level')
plt.ylabel('Number of Employees')
plt.legend(['Retained', 'Left'])
plt.show()





plt.figure(figsize=(20, 6))
ax = sns.countplot(data=df, x='Department', hue='left', palette=['lightblue', 'salmon'])

# Count of the bar
for container in ax.containers:
    ax.bar_label(container)

plt.title('Employee Retention by Department')
plt.xlabel('Department')
plt.ylabel('Number of Employees')
plt.legend(['Retained', 'Left'])
plt.show()





subdf = df[['satisfaction_level', 'average_montly_hours', 'promotion_last_5years', 'salary']].copy()
subdf


salary_dummies = pd.get_dummies(subdf.salary, prefix="salary", dtype=int)
df_with_dummies = pd.concat([subdf, salary_dummies], axis='columns')
df_with_dummies.drop('salary', axis='columns', inplace=True)
df_with_dummies.head()


X = df_with_dummies
y = df.left


X_train, X_test, y_train, y_test = train_test_split(X, y, test_size=0.2)

model = LogisticRegression()

model.fit(X_train, y_train)


y_pred = model.predict(X_test)


print("Accuracy: ", accuracy_score(y_test, y_pred))
print("Precision Score: ", precision_score(y_test, y_pred))
print("Recall: ", recall_score(y_test, y_pred))
print("F1 Score: ", f1_score(y_test, y_pred))
print("Classification Score:\n", classification_report(y_test, y_pred))






