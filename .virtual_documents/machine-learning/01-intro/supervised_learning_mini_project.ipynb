import pandas as pd
import seaborn as sns
import matplotlib.pyplot as plt
from sklearn.datasets import fetch_california_housing

data = fetch_california_housing(as_frame=True)
df = data.frame


df.head()


df.info()


df.describe()


sns.pairplot(df, vars=["MedInc", "AveRooms", "HouseAge", "MedHouseVal"])
plt.show()


df.isnull().sum()


df_telco_customer = pd.read_csv("data/Telco-Customer-Churn.csv")
df_telco_customer.head()


df_telco_customer.info()


df_telco_customer.describe()


sns.countplot(data=df_telco_customer, x="Churn")
plt.title("Churn Distribution")
plt.show()






