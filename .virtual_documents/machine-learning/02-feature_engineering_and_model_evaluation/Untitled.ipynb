import pandas as pd
import seaborn as sns
from sklearn.datasets import load_iris
from sklearn.model_selection import train_test_split
from sklearn.neighbors import KNeighborsClassifier
from sklearn.metrics import accuracy_score


df = sns.load_dataset("titanic")
df.head()


df.info()


cat_cols = df.select_dtypes(include="object").columns
num_cols = df.select_dtypes(include="number").columns

cat_cols, num_cols


for col in cat_cols:
    print(f"\n{df[col].value_counts()}\n")


df.describe()





data_iris = load_iris()
X = pd.DataFrame(data_iris.data, columns=data_iris.feature_names)
y = data_iris.target


X.describe()


data_iris.target_names


### KNN without scaling
X_train, X_test, y_train, y_test = train_test_split(
    X, y, test_size=0.5, random_state=42
)

knn = KNeighborsClassifier(n_neighbors=5)
knn.fit(X_train, y_train)

y_pred = knn.predict(X_test)
acc_wo_scaling = accuracy_score(y_test, y_pred)
acc_wo_scaling


# Min-Max Scaling
