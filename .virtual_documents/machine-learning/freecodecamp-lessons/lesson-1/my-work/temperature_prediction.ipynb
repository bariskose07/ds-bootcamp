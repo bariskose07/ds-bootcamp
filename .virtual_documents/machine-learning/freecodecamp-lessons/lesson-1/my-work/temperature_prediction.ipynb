





import numpy as np
import pandas as pd
import matplotlib.pyplot as plt
import seaborn as sns


# Data
df = pd.read_csv("weatherHistory.csv")
df.head()


# Handling duplicates
df[df.duplicated()].shape





df = df.drop_duplicates()
df.reset_index(drop=True, inplace=True)
df.tail()


df.shape





df.info()





df.isnull().sum()





df = df.dropna()
df.shape


# number columns
num_cols = df.select_dtypes(include=np.number).columns.tolist()
num_cols


df.describe()





# Dropping Loud Cover
df = df.drop("Loud Cover", axis=1)
df.reset_index(drop=True, inplace=True)
num_cols.remove("Loud Cover")
df.tail()


# categoric columns
cat_cols = df.select_dtypes(include="object").columns.tolist()
cat_cols


df.describe(include="object")





df["Formatted Date"] = pd.to_datetime(df["Formatted Date"], utc=True)
df["year"] = df["Formatted Date"].dt.year
df = df.drop("Formatted Date", axis=1)
df.reset_index(drop=True, inplace=True)
cat_cols.remove("Formatted Date")
df.head()


df.year.describe()


for col in cat_cols:
    print("\n", df[col].value_counts())





# Numeric Columns
# Target columns
plt.figure(figsize=(15, 10))
plt.subplot(2, 2, 1)
sns.histplot(df, x="Temperature (C)", bins=68, kde=True)
plt.title("Temperature (C)")

plt.subplot(2, 2, 2)
sns.histplot(df, x="Apparent Temperature (C)", bins=68, kde=True)
plt.title("Apparent Temperature (C)")

plt.subplot(2, 2, 3)
sns.boxplot(df, x="Temperature (C)")
plt.title("Apparent Temperature (C)")

plt.subplot(2, 2, 4)
sns.boxplot(df, x="Apparent Temperature (C)")
plt.title("Apparent Temperature (C)")

plt.tight_layout()
plt.show()





# Other Numeric Columns
columns = ['Humidity', 'Wind Speed (km/h)', 'Wind Bearing (degrees)',
           'Visibility (km)', 'Pressure (millibars)']

plt.figure(figsize=(15, 25))

for i, col in enumerate(columns, 1):
    # Histogram
    plt.subplot(len(columns), 2, 2*i-1)
    sns.histplot(df[col], bins=30, kde=True)
    plt.title(f"{col} - Histogram")
    
    # Boxplot
    plt.subplot(len(columns), 2, 2*i)
    sns.boxplot(x=df[col])
    plt.title(f"{col} - Boxplot")


plt.tight_layout()
plt.show()





df[df["Pressure (millibars)"] < 500].shape


df = df[df["Pressure (millibars)"] > 500]
df = df[df["Humidity"] != 0]
df.reset_index(drop=True, inplace=True)


plt.figure(figsize=(10, 5))
plt.subplot(1, 2, 1)
sns.histplot(df[col], bins=30, kde=True)
plt.title(f"{col} - Histogram")

plt.subplot(1, 2, 2)
sns.boxplot(x=df["Pressure (millibars)"])
plt.title("Pressure (millibars) - Boxplot")

plt.tight_layout()
plt.show()





# categoric columns
sns.countplot(x=df["Precip Type"])
plt.title("Precip Type")
plt.show()





sns.countplot(df["Summary"])
plt.title("Summary")
plt.show()


plt.figure(figsize=(15, 70))
sns.countplot(df["Daily Summary"])
plt.title("Daily Summary")
plt.show()





df = df.drop("Summary", axis=1)
df = df.drop("Daily Summary", axis=1)








plt.figure(figsize=(10, 5))

plt.subplot(1, 2, 1)
sns.scatterplot(df, x="Humidity", y="Temperature (C)", hue="Precip Type", alpha=0.5)
plt.title("Humidity and Temperature (C)")

plt.subplot(1, 2, 2)
sns.scatterplot(df, x="Humidity", y="Apparent Temperature (C)", hue="Precip Type", alpha=0.5)
plt.title("Humidity and Apparent Temperature (C)")

plt.tight_layout()
plt.show()








plt.figure(figsize=(10, 5))

plt.subplot(1, 2, 1)
sns.scatterplot(df, x="Wind Speed (km/h)", y="Temperature (C)", hue="Precip Type", alpha=0.5)
plt.title("Wind Speed (km/h) and Temperature (C)")

plt.subplot(1, 2, 2)
sns.scatterplot(df, x="Wind Speed (km/h)", y="Apparent Temperature (C)", hue="Precip Type", alpha=0.5)
plt.title("Wind Speed (km/h) and Apparent Temperature (C)")

plt.tight_layout()
plt.show()








plt.figure(figsize=(10, 5))

plt.subplot(1, 2, 1)
sns.scatterplot(df, x="Wind Bearing (degrees)", y="Temperature (C)", hue="Precip Type", alpha=0.5)
plt.title("Wind Bearing (degrees) and Temperature (C)")

plt.subplot(1, 2, 2)
sns.scatterplot(df, x="Wind Bearing (degrees)", y="Apparent Temperature (C)", hue="Precip Type", alpha=0.5)
plt.title("Wind Bearing (degrees) and Apparent Temperature (C)")

plt.tight_layout()
plt.show()








plt.figure(figsize=(10, 5))

plt.subplot(1, 2, 1)
sns.scatterplot(df, x="Visibility (km)", y="Temperature (C)", hue="Precip Type", alpha=0.5)
plt.title("Visibility (km) and Temperature (C)")

plt.subplot(1, 2, 2)
sns.scatterplot(df, x="Visibility (km)", y="Apparent Temperature (C)", hue="Precip Type", alpha=0.5)
plt.title("Visibility (km) and Apparent Temperature (C)")

plt.tight_layout()
plt.show()








plt.figure(figsize=(10, 5))

plt.subplot(1, 2, 1)
sns.scatterplot(df, x="Pressure (millibars)", y="Temperature (C)", hue="Precip Type", alpha=0.5)
plt.title("Pressure (millibars) and Temperature (C)")

plt.subplot(1, 2, 2)
sns.scatterplot(df, x="Pressure (millibars)", y="Apparent Temperature (C)", hue="Precip Type", alpha=0.5)
plt.title("Pressure (millibars) and Apparent Temperature (C)")

plt.tight_layout()
plt.show()


sns.scatterplot( x=(df["Pressure (millibars)"] * df["Humidity"]), y=df["Apparent Temperature (C)"], hue=df["Precip Type"], alpha=0.5)
plt.title("Pressure (millibars) and Apparent Temperature (C)")
plt.show()


num_cols
