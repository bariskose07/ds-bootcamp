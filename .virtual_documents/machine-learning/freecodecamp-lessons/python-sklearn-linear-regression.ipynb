














medical_charges_url = 'https://raw.githubusercontent.com/JovianML/opendatasets/master/data/medical-charges.csv'


from urllib.request import urlretrieve


urlretrieve(medical_charges_url, 'medical.csv')





import pandas as pd


medical_df = pd.read_csv('medical.csv')


medical_df





medical_df.info()





medical_df.describe()











get_ipython().getoutput("pip install plotly --quiet")


import plotly.express as px
import matplotlib
import matplotlib.pyplot as plt
import seaborn as sns
get_ipython().run_line_magic("matplotlib", " inline")





matplotlib.rcParams['font.size'] = 14
matplotlib.rcParams['figure.figsize'] = (10, 6)
matplotlib.rcParams['figure.facecolor'] = '#00000000'





medical_df.age.describe()


plt.subplot(1, 2, 1)
sns.histplot(medical_df, 
                   x='age',
                   bins=47, 
)
plt.title("Distribution of Age")

plt.subplot(1, 2, 2)
sns.boxplot(medical_df.age)

plt.tight_layout()
plt.show()








plt.subplot(1, 2, 1)
sns.histplot(medical_df, x='bmi',)
plt.title("Distribution of BMI (Body Mass Index)")

plt.subplot(1, 2, 2)
sns.boxplot(medical_df.bmi)

plt.tight_layout()
plt.show()








plt.subplot(1, 2, 1)
sns.histplot(medical_df, x='charges', hue='smoker')
plt.title("Annual Medical Charges")

plt.subplot(1, 2, 2)
plt.boxplot(medical_df.charges)

plt.tight_layout()
plt.show()

















medical_df.smoker.value_counts()


sns.histplot(medical_df, x='smoker', hue='sex')
plt.title("Smoker")
plt.show()




















fig = sns.scatterplot(medical_df, 
                 x='age', 
                 y='charges', 
                 hue='smoker', 
                 alpha=0.8,
)
plt.title("Age vs. Charges")
plt.show()








sns.scatterplot(medical_df, 
                 x='bmi', 
                 y='charges', 
                 hue='smoker', 
                 alpha=0.8,)
plt.title("BMI vs. Charges")
plt.show()























medical_df.charges.corr(medical_df.age)


medical_df.charges.corr(medical_df.bmi)





smoker_values = {'no': 0, 'yes': 1}
smoker_numeric = medical_df.smoker.map(smoker_values)
medical_df.charges.corr(smoker_numeric)





num_cols = medical_df.select_dtypes(include="number").columns.tolist()
medical_df[num_cols].corr()





sns.heatmap(medical_df[num_cols].corr(), cmap='Reds', annot=True)
plt.title('Correlation Matrix');











non_smoker_df = medical_df[medical_df.smoker == 'no']





plt.title('Age vs. Charges')
sns.scatterplot(data=non_smoker_df, x='age', y='charges', alpha=0.7, s=15);





def estimate_charges(age, w, b):
    return w * age + b





w = 50
b = 100


ages = non_smoker_df.age
estimated_charges = estimate_charges(ages, w, b)





plt.plot(ages, estimated_charges, 'r-o');
plt.xlabel('Age');
plt.ylabel('Estimated Charges');





target = non_smoker_df.charges

plt.plot(ages, estimated_charges, 'r', alpha=0.9);
plt.scatter(ages, target, s=8,alpha=0.8);
plt.xlabel('Age');
plt.ylabel('Charges')
plt.legend(['Estimate', 'Actual']);





def try_parameters(w, b):
    ages = non_smoker_df.age
    target = non_smoker_df.charges
    
    estimated_charges = estimate_charges(ages, w, b)
    
    plt.plot(ages, estimated_charges, 'r', alpha=0.9);
    plt.scatter(ages, target, s=8,alpha=0.8);
    plt.xlabel('Age');
    plt.ylabel('Charges')
    plt.legend(['Estimate', 'Actual']);


try_parameters(60, 200)


try_parameters(400, 5000)























get_ipython().getoutput("pip install numpy --quiet")


import numpy as np


def rmse(targets, predictions):
    return np.sqrt(np.mean(np.square(targets - predictions)))





w = 50
b = 100


try_parameters(w, b)


targets = non_smoker_df['charges']
predicted = estimate_charges(non_smoker_df.age, w, b)


rmse(targets, predicted)





def try_parameters(w, b):
    ages = non_smoker_df.age
    target = non_smoker_df.charges
    predictions = estimate_charges(ages, w, b)
    
    plt.plot(ages, predictions, 'r', alpha=0.9);
    plt.scatter(ages, target, s=8,alpha=0.8);
    plt.xlabel('Age');
    plt.ylabel('Charges')
    plt.legend(['Prediction', 'Actual']);
    
    loss = rmse(target, predictions)
    print("RMSE Loss: ", loss)


try_parameters(50, 100)




















get_ipython().getoutput("pip install scikit-learn --quiet")





from sklearn.linear_model import LinearRegression





model = LinearRegression()





help(model.fit)





inputs = non_smoker_df[['age']]
targets = non_smoker_df.charges
print('inputs.shape :', inputs.shape)
print('targes.shape :', targets.shape)





model.fit(inputs, targets)





model.predict(np.array([[23], 
                        [37], 
                        [61]]))





predictions = model.predict(inputs)


predictions





rmse(targets, predictions)








# w
model.coef_


# b
model.intercept_





try_parameters(model.coef_, model.intercept_)
































# Create inputs and targets
inputs, targets = non_smoker_df[['age']], non_smoker_df['charges']

# Create and train the model
model = LinearRegression().fit(inputs, targets)

# Generate predictions
predictions = model.predict(inputs)

# Compute loss to evalute the model
loss = rmse(targets, predictions)
print('Loss:', loss)





jovian.commit()





# Create inputs and targets
inputs, targets = non_smoker_df[['age', 'bmi']], non_smoker_df['charges']

# Create and train the model
model = LinearRegression().fit(inputs, targets)

# Generate predictions
predictions = model.predict(inputs)

# Compute loss to evalute the model
loss = rmse(targets, predictions)
print('Loss:', loss)





non_smoker_df.charges.corr(non_smoker_df.bmi)


fig = px.scatter(non_smoker_df, x='bmi', y='charges', title='BMI vs. Charges')
fig.update_traces(marker_size=5)
fig.show()





fig = px.scatter_3d(non_smoker_df, x='age', y='bmi', z='charges')
fig.update_traces(marker_size=3, marker_opacity=0.5)
fig.show()





model.coef_, model.intercept_




















non_smoker_df.charges.corr(non_smoker_df.children)


fig = px.strip(non_smoker_df, x='children', y='charges', title= "Children vs. Charges")
fig.update_traces(marker_size=4, marker_opacity=0.7)
fig.show()


# Create inputs and targets
inputs, targets = non_smoker_df[['age', 'bmi', 'children']], non_smoker_df['charges']

# Create and train the model
model = LinearRegression().fit(inputs, targets)

# Generate predictions
predictions = model.predict(inputs)

# Compute loss to evalute the model
loss = rmse(targets, predictions)
print('Loss:', loss)

















# Create inputs and targets
inputs, targets = medical_df[['age', 'bmi', 'children']], medical_df['charges']

# Create and train the model
model = LinearRegression().fit(inputs, targets)

# Generate predictions
predictions = model.predict(inputs)

# Compute loss to evalute the model
loss = rmse(targets, predictions)
print('Loss:', loss)











jovian.commit()








sns.barplot(data=medical_df, x='smoker', y='charges');


smoker_codes = {'no': 0, 'yes': 1}
medical_df['smoker_code'] = medical_df.smoker.map(smoker_codes)


medical_df.charges.corr(medical_df.smoker_code)


medical_df





# Create inputs and targets
inputs, targets = medical_df[['age', 'bmi', 'children', 'smoker_code']], medical_df['charges']

# Create and train the model
model = LinearRegression().fit(inputs, targets)

# Generate predictions
predictions = model.predict(inputs)

# Compute loss to evalute the model
loss = rmse(targets, predictions)
print('Loss:', loss)





sns.barplot(data=medical_df, x='sex', y='charges')


sex_codes = {'female': 0, 'male': 1}


medical_df['sex_code'] = medical_df.sex.map(sex_codes)


medical_df.charges.corr(medical_df.sex_code)


# Create inputs and targets
inputs, targets = medical_df[['age', 'bmi', 'children', 'smoker_code', 'sex_code']], medical_df['charges']

# Create and train the model
model = LinearRegression().fit(inputs, targets)

# Generate predictions
predictions = model.predict(inputs)

# Compute loss to evalute the model
loss = rmse(targets, predictions)
print('Loss:', loss)








sns.barplot(data=medical_df, x='region', y='charges');


from sklearn import preprocessing
enc = preprocessing.OneHotEncoder()
enc.fit(medical_df[['region']])
enc.categories_


one_hot = enc.transform(medical_df[['region']]).toarray()
one_hot


medical_df[['northeast', 'northwest', 'southeast', 'southwest']] = one_hot


medical_df





# Create inputs and targets
input_cols = ['age', 'bmi', 'children', 'smoker_code', 'sex_code', 'northeast', 'northwest', 'southeast', 'southwest']
inputs, targets = medical_df[input_cols], medical_df['charges']

# Create and train the model
model = LinearRegression().fit(inputs, targets)

# Generate predictions
predictions = model.predict(inputs)

# Compute loss to evalute the model
loss = rmse(targets, predictions)
print('Loss:', loss)

















jovian.commit()





model.coef_


model.intercept_


weights_df = pd.DataFrame({
    'feature': np.append(input_cols, 1),
    'weight': np.append(model.coef_, model.intercept_)
})
weights_df





medical_df


from sklearn.preprocessing import StandardScaler


numeric_cols = ['age', 'bmi', 'children'] 
scaler = StandardScaler()
scaler.fit(medical_df[numeric_cols])


scaler.mean_


scaler.var_





scaled_inputs = scaler.transform(medical_df[numeric_cols])
scaled_inputs





cat_cols = ['smoker_code', 'sex_code', 'northeast', 'northwest', 'southeast', 'southwest']
categorical_data = medical_df[cat_cols].values


inputs = np.concatenate((scaled_inputs, categorical_data), axis=1)
targets = medical_df.charges

# Create and train the model
model = LinearRegression().fit(inputs, targets)

# Generate predictions
predictions = model.predict(inputs)

# Compute loss to evalute the model
loss = rmse(targets, predictions)
print('Loss:', loss)





weights_df = pd.DataFrame({
    'feature': np.append(numeric_cols + cat_cols, 1),
    'weight': np.append(model.coef_, model.intercept_)
})
weights_df.sort_values('weight', ascending=False)








from sklearn.model_selection import train_test_split


inputs_train, inputs_test, targets_train, targets_test = train_test_split(inputs, targets, test_size=0.1)


# Create and train the model
model = LinearRegression().fit(inputs_train, targets_train)

# Generate predictions
predictions_test = model.predict(inputs_test)

# Compute loss to evalute the model
loss = rmse(targets_test, predictions_test)
print('Test Loss:', loss)





# Generate predictions
predictions_train = model.predict(inputs_train)

# Compute loss to evalute the model
loss = rmse(targets_train, predictions_train)
print('Training Loss:', loss)











jovian.commit()






