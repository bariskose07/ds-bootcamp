import numpy as np
import pandas as pd
import matplotlib.pyplot as plt
from sklearn.datasets import fetch_california_housing
from sklearn.preprocessing import PolynomialFeatures
from sklearn.linear_model import LinearRegression
from sklearn.metrics import mean_squared_error


# Loading the California Housing dataset
data = fetch_california_housing(as_frame=True)
df = data.frame

df.head()


# Select feature and target
X = df[["MedInc"]]
y = df[["MedHouseVal"]]

# transforming feature to polynomial features
poly = PolynomialFeatures(degree=2, include_bias=False)
X_poly = poly.fit_transform(X)

# Fit polynomial regression model
model = LinearRegression()
model.fit(X_poly, y)
print(model.get_params())

# Make predictions
y_pred = model.predict(X_poly)


# Plotting actual vs predicted data
plt.figure(figsize=(10,6))
plt.scatter(X, y, label="Actual data")
plt.scatter(X, y_pred, color="red", label="Predicted data")
plt.title("Polynomial Regression for California Housing")
plt.xlabel("Median Income in California")
plt.ylabel("Median House Value in California")
plt.legend()
plt.show()

# Evaluate model performance
mse = mean_squared_error(y, y_pred)
print("MSE: ", mse)


# Using Lasso and Ridge Regression
from sklearn.linear_model import Ridge, Lasso
from sklearn.model_selection import train_test_split

# Split data into training and testing set
X_train, X_test, y_train, y_test = train_test_split(X_poly, y, test_size=0.2, random_state=42)

# Ridge Regression
ridge_model = Ridge(alpha=0.1)
ridge_model.fit(X_train, y_train)
ridge_predictions = ridge_model.predict(X_test)

# Lasso Regression
lasso_model = Lasso(alpha=0.1)
lasso_model.fit(X_train, y_train)
lasso_predictions = lasso_model.predict(X_test)

#  Evaluate Ridge Regression
ridge_mse = mean_squared_error(y_test, ridge_predictions)
print(ridge_model.coef_)
print(ridge_model.get_params())
print("Ridge Regression MSE: ", ridge_mse)

#  Evaluate Lasso Regression
lasso_mse = mean_squared_error(y_test, lasso_predictions)
print(lasso_model.coef_)
print(lasso_model.get_params())
print("Lasso Regression MSE: ", lasso_mse)

# Visualize Ridge aand Lasso predictions
plt.figure(figsize=(10,6))
plt.scatter(X_test[:, 0], y_test, label="Actual data")
plt.scatter(X_test[:, 0], ridge_predictions, color="green", label="Ridge Predictions", alpha=0.5)
plt.scatter(X_test[:, 0], lasso_predictions, color="orange", label="Lasso Predictions", alpha=0.5)
plt.title("Ridge vs Lasso Regression for California Housing")
plt.xlabel("Median Income in California (Transformed)")
plt.ylabel("Median House Value in California")
plt.legend()
plt.show()






