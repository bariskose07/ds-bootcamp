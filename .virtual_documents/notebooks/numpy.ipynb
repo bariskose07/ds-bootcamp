import numpy as np





# Creating arrays
arr = np.array([1, 2, 3, 4])
print(arr)


# Zeros matrix
zeros = np.zeros((3, 3))
print(zeros)

# Ones matrix
zeros = np.ones((3, 3))
print(zeros)


range_array = np.arange(start=1, stop=9, step=2)
range_array


linspace_array = np.linspace(0, 1, 11)
linspace_array


# Manipulating arrays
reshaped_array = arr.reshape((2, 2))
reshaped_array


expanded_array = arr[:, np.newaxis]
expanded_array


a = np.array([1, 2, 3])
b = np.array([4, 5, 6])

print("Addition: ", a + b)
print("Multiplication: ", a * b)
print("Division: ", a / b)
print("Square root: ", np.sqrt(a))
print("Sum: ", np.sum(a))
print("Mean: ", np.mean(a))
print("Max: ", np.max(a))
print("Min: ", np.min(a))


# Array indexing, slicing, reshaping
print(arr[2])

print(arr[:3])
print(arr[3:])
print(arr[1:4])

reshaped_array = arr.reshape((2, 2))
reshaped_array


matrix = np.arange(1, 10).reshape((3,3))
another_matrix = np.arange(10, 19).reshape((3,3))
print("Original Matrix:\n ", matrix)
print()
print("Another Matrix:\n ", another_matrix)
print()
print("Transpose:\n ", matrix.T)
print()

print("Addition:\n ", matrix + another_matrix)
print()
print("Multiplication:\n ", matrix * another_matrix)








# Array and scalar broadcasting
print(arr + 10)


matrix = np.arange(1, 7).reshape((2, 3))
vector = np.array([1, 0, 1])
print(matrix, "\nVector: ", vector)
print(matrix + vector)
print(matrix * 2)





# Common agg functions
matrix = np.arange(1, 7).reshape((2, 3))
print("Sum: ", np.sum(matrix))
print("Mean: ", np.mean(matrix))
print("Max: ", np.max(matrix))
print("Min: ", np.min(matrix))
print("Standart Deviation: ", np.std(matrix))
print("Sum along rows: ", np.sum(matrix, axis=1)) # axis=1 rows
print("Sum along columns: ", np.sum(matrix, axis=0)) # axis=0 columns


# Boolean indexing and filtering
print(arr)

evens = arr[arr % 2 == 0]
print(evens)

arr[arr > 3] = 0
print("Modified array: ", arr)


# Random number generation and setting seeds
np.random.seed(42)

random_matrix = np.random.rand(3, 3)
print("Random Matrix:\n", random_matrix)

random_integers = np.random.randint(0, high=10, size=(1, 3))
print("randint:\n", random_integers)



