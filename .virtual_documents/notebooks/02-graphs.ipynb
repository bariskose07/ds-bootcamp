import pandas as pd
import numpy as np
import seaborn as sns
import matplotlib.pyplot as plt
from matplotlib.ticker import MultipleLocator, FormatStrFormatter
import os





print("CWD:", os.getcwd())





x = [1,2,3,4,5]
y = [2,4,6,8,10]
#plt.plot(x,y, "ro")
plt.plot(x,y, label="2x", color="red", linewidth=5, marker=".", markersize=20)

plt.title("Our First Graph!", fontdict={"fontname": "Comic Sans MS", "fontsize": 20})
plt.xlabel("X Axis")
plt.ylabel("Y Axis")

plt.xticks=([0,1,2,3,4,5,6,7,8,9,10])
plt.yticks=([0,1,2,3,4,5])

plt.legend()

plt.show()


df = sns.load_dataset("diamonds")
df.head()





sns.histplot(df["price"], stat="percent", binwidth=100, element="step")
plt.title("Price Distribution")
plt.show()








plt.figure(figsize=(10, 10))
sns.scatterplot(data=df, x="carat", y="price", hue="cut", style="cut")

plt.gca().xaxis.set_major_locator(MultipleLocator(0.5))

plt.xlabel("Carat", fontdict={"fontname": "Comic Sans MS", "fontsize": 20})

plt.show()





plt.figure(figsize=(20,20))
dfcopy = df.copy()
filtered_dfcopy = dfcopy[dfcopy["y"]<20]
filtered_dfcopy = filtered_dfcopy[filtered_dfcopy["z"]<20]
sns.boxplot(filtered_dfcopy[["cut", "color", 'x', 'y',
       'z']], x="color", y="x", hue="cut", fill=False, gap=.3)

plt.show()





plt.figure(figsize=(40,20))
sns.violinplot(df[["carat", "x","y", "z", "cut", "color"]], x="cut", y="y", hue="color")
plt.show()





sns.barplot(filtered_dfcopy[["cut", "color", 'x', 'y','z']], x="color", y="x", errorbar=None)

plt.show()





num_cols = df.select_dtypes(include=np.number).columns
corr = df[num_cols].corr()
sns.heatmap(corr, annot=True, cmap="crest", fmt=".1f", center=0, linewidth=5, vmin=-0.4, vmax=1)


plt.show()





num_cols = df.select_dtypes(include=np.number).columns
corr = df[num_cols].corr()
sns.heatmap(corr, annot=True, cmap="crest", fmt=".1f", center=0, linewidth=5, vmin=-0.4, vmax=1)


plt.savefig("02-graphs_figures/save_fig.png")



