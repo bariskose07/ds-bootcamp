import numpy as np
import pandas as pd
import seaborn as sns
import matplotlib.pyplot as plt

sns.set_theme(style="whitegrid")
plt.rcParams["figure.dpi"] = 120

# Örnek veri: seaborn tips
df = sns.load_dataset("tips").copy()
#df = df.rename(columns={"size": "table_size"})
df.head()


# 1) select (sütun seçimi)
cols = ["total_bill", "tip", "sex", "smoker", "day", "time", "size"]
df_sel = df[cols].copy()
df_sel.head()


# 2) filter (satır filtresi)
df_big = df_sel[(df_sel["total_bill"] > 20) & (df_sel["size"] >= 3)]
df_big.head()


# 3) assign (yeni sütun ekleme)
df_feat = df_big.assign(
    tip_pct=lambda d: d["tip"] / d["total_bill"],
    bill_per_person=lambda d: d["total_bill"] / d["size"]
)
df_feat.head()


# 4) groupby().agg (gruplama ve özet)
grp = (df_feat
       .groupby(["day", "smoker"], observed=True)
       .agg(
           tip_pct_mean=("tip_pct", "mean"),
           tip_pct_median=("tip_pct", "median"),
           n=("tip_pct", "size")
       )
       .reset_index())
grp.head()


# 4) groupby().agg (gruplama ve özet)
grp = (df_feat
       .groupby(["time", "day"], observed=True)
       .agg({
           "tip_pct": ["mean", "median", "count", "min", "max"],
           "size": ["mean"]
       }))
    
grp


grp_sorted = grp.sort_values(["tip_pct_mean"], ascending=False)
grp_sorted.head()


# 6) merge (tablo birleştirme)
# Küçük bir lookup tablosu oluşturalım
lookup = pd.DataFrame({
    "smoker": ["Yes", "No"],
    "smoker_label": ["Smoker", "Non-Smoker"]
})
merged = grp_sorted.merge(lookup, on="smoker", how="left")
merged.head()


# 7) pivot_table (geniş tablo)
pv = pd.pivot_table(
    df_feat,
    values=["tip_pct", "size"],
    index="sex",
    columns="smoker",
    aggfunc=["mean","median","count"],
    fill_value=0,
    margins=False, #if True adds ALl
    observed=False
)
pv.head().T


# 8) get_dummies (one-hot kodlama)
df_dum = pd.get_dummies(df_sel, columns=["sex", "smoker", "day", "time"], drop_first=True)
df_dum.head()


# Mikro örnek: yüzde bahşiş segmenti oluşturma
df_vec = df.copy()
df_vec["tip_pct"] = df_vec["tip"] / df_vec["total_bill"]

# apply ile (satır bazlı) — genelde daha yavaş
def segment_apply(row):
    return "high" if row["tip_pct"] >= 0.18 else "low"

# Jupyter'de hücre başına kullan: %%timeit
get_ipython().run_line_magic("timeit", " df_vec[\"seg_apply\"] = df_vec.apply(segment_apply, axis=1)")

# Vektörize yaklaşım — hızlı
get_ipython().run_line_magic("timeit", " df_vec[\"seg_vec\"] = np.where(df_vec[\"tip_pct\"] >= 0.18, \"high\", \"low\")")

(df_vec["seg_apply"] == df_vec["seg_vec"]).all()


# Eksik oranları
missing_rate = df.isna().mean().sort_values(ascending=False)
missing_rate


# Duplikeler
dup_count = df.duplicated().sum()


# Kategorik tip dönüşümü
cat_cols = ["sex", "smoker", "day", "time"]
for c in cat_cols:
    df[c] = df[c].astype("category")

df.dtypes


date_df = pd.DataFrame({
    "date_str": ["2023-01-01 18:30", "2023-01-02 12:15", "2023-01-03 20:05"]
})
date_df["dt"] = pd.to_datetime(date_df["date_str"])
date_df["dayofweek"] = date_df["dt"].dt.day_name()
date_df["hour"] = date_df["dt"].dt.hour
date_df["minute"] = date_df["dt"].dt.minute
date_df





# Sayısal dağılım
sns.histplot(df["total_bill"], kde=True)
plt.title("Total Bill Distribution")
plt.show()


# Kategorik vs sayısal
sns.boxplot(data=df, x="day", y="tip")
plt.title("Tip by Day")
plt.show()


# İki sayısal ilişki (+ hue ile 3. değişken)
sns.scatterplot(data=df, x="total_bill", y="tip", hue="size")
plt.title("Tip vs Total Bill (colored by Size)")
plt.show()


# Korelasyon (sayısal sütunlar)
num_cols = df.select_dtypes(include=np.number).columns
corr = df[num_cols].corr()
sns.heatmap(corr, annot=True, cmap="vlag", center=0)
plt.title("Correlation Heatmap")
plt.show()


# Kategorik oran/ortalama karşılaştırması (estimator=mean default)
df_tmp = df.copy()
df_tmp["tip_pct"] = df_tmp["tip"] / df_tmp["total_bill"]
sns.barplot(data=df_tmp, x="smoker", y="tip_pct", errorbar=('ci', 95))
plt.title("Mean Tip % by Smoker")
plt.show()


# Çoklu etkileşim (faceting / catplot)
sns.catplot(
    data=df_tmp, x="day", y="tip_pct", hue="sex",
    kind="violin", height=4, aspect=1.3
)
plt.show()





pd.crosstab(
            index=[df_tmp["sex"], df_tmp["time"]], 
            columns=df_tmp["day"], 
            values=df_tmp["tip"],
            aggfunc="sum",
            # normalize="index", # the sum of each row is 1
            # normalize="columns", # the sum of each columns is 1
            # normalize="all", # the sum of all data is 1
            margins=True
           )


df_tmp



