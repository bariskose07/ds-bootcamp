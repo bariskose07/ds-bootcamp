





import numpy as np
import pandas as pd
import matplotlib.pyplot as plt
import seaborn as sns


df = pd.read_csv('../../data/car_details_from_car_dekho.csv')
df.head()


df.duplicated().sum()


before = len(df)
df = df[df.duplicated() != True].copy()
print(before - len(df))


df.info()


df.describe().round(2)


df.isnull().sum()


df["age"] = 2025 - df["year"]


num_cols = df.select_dtypes(include=["number"]).columns.tolist()
cat_cols = df.select_dtypes(include=["object"]).columns.tolist()

for col in cat_cols:
    print(f"{col}: {df[col].unique()}")
    print(f"\n {df[col].value_counts()}\n")


fig, axes = plt.subplots(1, 2, figsize=(12, 4))

cols = ["selling_price", "km_driven"]

for ax, col in zip(axes, cols):
    sns.boxplot(df[col], ax=ax)
    ax.ticklabel_format(style='plain', axis='y')
    ax.set_title(col)

plt.tight_layout()
plt.show()


before = len(df)
df = df[df['selling_price'] <= 6_000_000].copy()
print("Deleted Rows:", before - len(df))

before = len(df)
df = df[df['km_driven'] <= 500_000].copy()
print("Deleted Rows:", before - len(df))


# Comparing selling_price with numerical datas
plt.figure(figsize=(15, 5))

ax = sns.histplot(x=df["selling_price"].round(0), bins=100)
ax.ticklabel_format(style='plain', axis='x')
plt.show()

ax2 = sns.scatterplot(df, x="age", y="selling_price", hue="transmission")
ax2.ticklabel_format(style='plain', axis='y')
plt.legend()
plt.show()

ax3 = sns.scatterplot(df, x="km_driven", y="selling_price", hue="transmission")
ax3.ticklabel_format(style='plain', axis='y')
plt.legend()
plt.show()


df['km_group'] = pd.cut(df['km_driven'], 
                        bins=[0, 50000, 100000, 150000, 200000, 500000], 
                        labels=['0-50', '50-100', '100-150', '150-200', "200+"])


ax = sns.boxplot(df, x="km_group", y="selling_price")
ax.ticklabel_format(style='plain', axis='y')
ax.set_title("Car Prices by KM Driven")
ax.set_xlabel("KM (1000)")
ax.set_ylabel("Price")
plt.show()


ax = sns.boxplot(df, x="km_group", y="selling_price", hue="transmission")
ax.ticklabel_format(style='plain', axis='y')
ax.set_title("Car Prices by KM Driven")
ax.set_xlabel("KM (1000)")
ax.set_ylabel("Price")
ax.legend()
plt.show()


plt.figure(figsize=(15, 5))
sns.countplot(df, x="owner", hue="transmission")
plt.legend()
plt.show()


filtered_df = df[(df["km_driven"] < 150000) & (df["selling_price"] < 1750000) & (df["owner"] == "Third Owner")]

ax2 = sns.scatterplot(filtered_df, x="km_driven", y="selling_price")
ax2.ticklabel_format(style='plain', axis='x')
ax2.ticklabel_format(style='plain', axis='y')
plt.show()


plt.figure(figsize=(15, 5))
sns.countplot(df, x="fuel", hue="transmission")
plt.legend()
plt.show()


plt.figure(figsize=(15, 5))
sns.countplot(df, x="seller_type", hue="transmission")
plt.legend()
plt.show()








df.head()



