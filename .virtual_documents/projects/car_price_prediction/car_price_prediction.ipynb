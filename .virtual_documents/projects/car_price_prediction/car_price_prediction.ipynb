





import numpy as np
import pandas as pd
import matplotlib.pyplot as plt
import seaborn as sns


sns.set(style="ticks")

df = pd.read_csv('../../data/car_details_from_car_dekho.csv')
df.head()


df.duplicated().sum()


df = df.drop_duplicates().copy()


df.info()


df.describe().round(2)


df.isnull().sum()





df["car_age"] = 2025 - df["year"]


df["km_per_year"] = (df["km_driven"] / df["car_age"]).round(2)


df["brand"] = df["name"].str.split().str[0]


df['km_group'] = pd.cut(df['km_driven'], 
                        bins=[0, 50000, 100000, 150000, 200000, 500000], 
                        labels=['0-50', '50-100', '100-150', '150-200', "200+"])


bins = [0, 5, 10, 15, df['car_age'].max()]
labels = ['0-5', '5-10', '10-15', '10+']
df['age_group'] = pd.cut(df['car_age'], bins=bins, labels=labels, include_lowest=True)


df['selling_price_log'] = np.log1p(df['selling_price'])
df['km_driven_log'] = np.log1p(df['km_driven'])
df['km_per_year_log'] = np.log1p(df['km_per_year'])


num_cols = df.select_dtypes(include=["number"]).columns.tolist()
cat_cols = df.select_dtypes(include=["object"]).columns.tolist()

for col in cat_cols:
    print(f"{col}: {df[col].unique()}")
    print(f"\n {df[col].value_counts().head(10)}\n")


fig, axes = plt.subplots(1, 3, figsize=(12, 4))

cols = ["selling_price", "km_driven", "km_per_year"]

for ax, col in zip(axes, cols):
    sns.boxplot(df[col], ax=ax)
    ax.ticklabel_format(style='plain', axis='y')
    ax.set_title(col)

plt.tight_layout()
plt.show()


def winsorize_by_quantiles(df, cols, low_q=0.005, high_q=0.995):
    df_out = df.copy()
    for c in cols:
        ql = df_out[c].quantile(low_q)
        qh = df_out[c].quantile(high_q)
        before_outliers = ((df_out[c] < ql) | (df_out[c] > qh)).sum()
        df_out[c] = df_out[c].clip(ql, qh)
        print(f"{c}: clipped to [{ql:.3f}, {qh:.3f}] — affected rows (pre-clip): {before_outliers}")
    return df_out
df = winsorize_by_quantiles(df, ["selling_price", "km_driven", "km_per_year"]).copy()

fig, axes = plt.subplots(1, 3, figsize=(12, 4))

cols = ["selling_price", "km_driven", "km_per_year"]

for ax, col in zip(axes, cols):
    sns.boxplot(df[col], ax=ax)
    ax.ticklabel_format(style='plain', axis='y')
    ax.set_title(col)

plt.tight_layout()
plt.show()


for c in num_cols:
    plt.figure(figsize=(10,3))
    sns.histplot(df[c], kde=True)
    plt.title(c)
    plt.show()


for c in cat_cols:
    vc = df[c].value_counts().head(10)
    print(f"\n{c} — top 10")
    print(vc)
    plt.figure(figsize=(10, 5))
    sns.barplot(x=vc.values, y=vc.index)
    plt.title(c)
    plt.show()


corr = df[num_cols].corr()
sns.heatmap(corr, annot=True, cmap="coolwarm")
plt.show()


# Comparing selling_price with numerical datas

ax2 = sns.scatterplot(df, x="age", y="selling_price", hue="transmission")
ax2.ticklabel_format(style='plain', axis='y')
plt.legend()
plt.show()

ax3 = sns.scatterplot(df, x="km_driven", y="selling_price", hue="transmission")
ax3.ticklabel_format(style='plain', axis='y')
plt.legend()
plt.show()





ax = sns.boxplot(df, x="km_group", y="selling_price")
ax.ticklabel_format(style='plain', axis='y')
ax.set_title("Car Prices by KM Driven")
ax.set_xlabel("KM (1000)")
ax.set_ylabel("Price")
plt.show()


ax = sns.boxplot(df, x="km_group", y="selling_price", hue="transmission", gap=0.1)
ax.ticklabel_format(style='plain', axis='y')
ax.set_title("Car Prices by KM Driven")
ax.set_xlabel("KM (1000)")
ax.set_ylabel("Price")
ax.legend()
plt.show()


plt.figure(figsize=(15, 5))
sns.countplot(df, x="owner", hue="transmission")
plt.legend()
plt.show()


filtered_df = df[(df["km_driven"] < 150000) & (df["selling_price"] < 1750000) & (df["owner"] == "Third Owner")]

ax2 = sns.scatterplot(filtered_df, x="km_driven", y="selling_price")
ax2.ticklabel_format(style='plain', axis='x')
ax2.ticklabel_format(style='plain', axis='y')
plt.show()


plt.figure(figsize=(15, 5))
sns.countplot(df, x="fuel", hue="transmission")
plt.legend()
plt.show()


plt.figure(figsize=(15, 5))
sns.countplot(df, x="seller_type", hue="transmission")
plt.legend()
plt.show()








df.head()



