import pandas as pd, numpy as np, seaborn as sns, matplotlib.pyplot as plt, matplotlib.ticker as mtick, os
sns.set_theme(style="whitegrid")
plt.rcParams["figure.dpi"] = 120


# 1) Data
df = sns.load_dataset("tips").copy()
print(df.shape); display(df.head())
display(df.info())
df["tip_pct"] = df["tip"] / df["total_bill"]
df = df[df["size"] > 0].copy()
cat_cols = ["sex", "smoker", "day", "time"]
for c in cat_cols: df[c] = df[c].astype("category")


# 2) Data quality
missing = df.isna().mean().sort_values(ascending=False)
dups = df.duplicated().sum()
display(missing, dups)


# 3) Quick stats
num_cols = df.select_dtypes(include=np.number).columns
display(df[num_cols].describe().T)


# 4) Plots (örnekler)
sns.histplot(df["total_bill"], kde=True); plt.title("Total bill distribution"); plt.savefig("figures/total_bill_hist.png"); plt.show()
sns.boxplot(data=df, x="day", y="tip_pct"); plt.title("Tip % by day"); plt.savefig("figures/tip_pct_by_day.png"); plt.show()
sns.scatterplot(data=df, x="total_bill", y="tip", hue="size"); plt.title("Tip vs Total Bill by Size"); plt.savefig("figures/tip_vs_bill_size.png"); plt.show()
corr = df[num_cols].corr()
sns.heatmap(corr, annot=True, cmap="vlag", center=0); plt.title("Correlation (numeric)"); plt.savefig("figures/corr_heatmap.png"); plt.show()
sns.barplot(data=df, x="smoker", y="tip_pct"); plt.title("Tip % by smoker"); plt.savefig("figures/tip_pct_smoker.png"); plt.show()
sns.catplot(data=df, x="day", y="tip_pct", hue="sex", kind="violin"); plt.savefig("figures/tip_pct_day_sex.png"); plt.show()


sns.displot(data=df, x="tip_pct", col="time", kde=True, height=3, aspect=1.2)

plt.show()


df["bill_per_person"] = df["total_bill"] / df["size"]
df["high_tip"] = df["tip"]/df["total_bill"] >=.18
#df["high_tip"] = df["high_tip"].replace(False, 0)
#df["high_tip"] = df["high_tip"].replace(True, 1)
df


ax = sns.barplot(
    data=df,
    x="day",
    y="high_tip",
    estimator=np.mean,
    errorbar=None,
    color="red",
    width=.7
)

ax.set_ylim(0, 1)
ax.yaxis.set_major_formatter(mtick.PercentFormatter(1.0))
ax.set_title("High-tip rate by day")
ax.set_xlabel("Day"); ax.set_ylabel("High-tip rate")

#adding percentage labels
for p in ax.patches:
    h = p.get_height()
    ax.annotate(f"{h:.1%}", (p.get_x()+p.get_width()/2, h +.01),
                ha="center", va="bottom", fontsize=12)

plt.savefig("figures/high_tip_rate_by_day.png", dpi=150, bbox_inches="tight")

plt.show()








dfcopy_one = df.copy()

table = (
    dfcopy_one
    .groupby(["day", "time"])
    .agg(
        tip_pct_mean=("tip_pct","mean"),
        n=("tip_pct","size")
    )
    .reset_index()
)
table["tip_pct_mean"] = (table["tip_pct_mean"] * 100).round(1)
table["tip_pct_mean"] = table["tip_pct_mean"].fillna(0)
table


table.to_csv("tables/tip_pct_mean_by_day_time.csv", index=False)



