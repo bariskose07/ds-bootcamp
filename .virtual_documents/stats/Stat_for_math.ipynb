





import math

data = [3,76,43,12,31,43]

def mean(arr):
    sum = 0
    for i in arr:
        sum += i
    return sum/len(arr)

def median(arr):
    arr.sort()
    length = len(arr)
    if length % 2 == 1:
        return arr[math.floor(length/2)]
    else:
        return (arr[int(length / 2)] + arr[int(length / 2 - 1)]) / 2

print('Mean: ', mean(data))
print('Median: ', median(data))






































































































