from pathlib import Path
import os
ROOT = Path.cwd()
DATA = "../data"
QUERY_DIR = "queries/02-chinook_practice_sqls/"
RESULT_DIR = "results/02-chinook_practice_sqls_results/"

db_path = "../data/Chinook_Sqlite.sqlite"


import sqlite3, pandas as pd

def run_sql(sql: str, params=None):
    with sqlite3.connect(db_path) as con:
        return pd.read_sql_query(sql, con, params=params)

def run_sql_file_to_csv(sql_file, out_csv):
    sql_text = Path(sql_file).read_text(encoding="utf-8")
    df = run_sql(sql_text)
    Path(out_csv).parent.mkdir(parents=True, exist_ok=True)
    df.to_csv(out_csv, index=False)
    return df


run_sql("SELECT name FROM sqlite_master WHERE type='table' ORDER BY name;")


run_sql("""
           SELECT * FROM genre
        """ )


run_sql("""
            WITH genre_rev AS (
            SELECT g.GenreId AS Id, g.Name AS Genre, 
            SUM(i.Total) AS revenue
            FROM Invoice i
            FULL JOIN InvoiceLine il  ON il.InvoiceId = i.InvoiceId
            FULL JOIN Track t         ON t.TrackId = il.TrackId
            FULL JOIN Genre g         ON g.GenreId = t.GenreId
            GROUP BY g.GenreId
            )
            SELECT *, ROUND(100 * revenue / (SELECT SUM(revenue) FROM genre_rev), 2) AS percentage
            FROM genre_rev
        """ )


queries = [
                    "q01_top_artists.sql", 
                    "q02_rev_by_country.sql", 
                    "q03_monthly_revenue.sql", 
                    "q04_customer_total_spendings_and_avg_order_amount.sql",
                    "q05_10_best_selling_tracks.sql",
                    "q06_number_of_customers_and_revenue_by_support_representative.sql",
                    "q07_unique_customers_who_purchased_rock_genre.sql",
                    "q08_revenue_and_percentage_of_total_by_genre.sql"
                                                                            ]

for sql_name in queries:
    sql_file = os.path.join(QUERY_DIR, sql_name)
    out_csv = os.path.join(RESULT_DIR, (os.path.splitext(sql_name)[0] + ".csv"))
    df = run_sql_file_to_csv(sql_file, out_csv)
    print("Saved:", out_csv, "| rows:", len(df))



