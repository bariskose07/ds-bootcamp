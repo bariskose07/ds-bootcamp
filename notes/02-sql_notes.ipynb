{
 "cells": [
  {
   "cell_type": "markdown",
   "id": "b8b55d3d-02ea-417b-8372-384fc5d1bfa6",
   "metadata": {},
   "source": [
    "# Select query for a specific columns\n",
    "#### SELECT column, another_column, …\n",
    "#### FROM mytable;"
   ]
  },
  {
   "cell_type": "code",
   "execution_count": null,
   "id": "8e6f4557-ab69-4261-a46c-3d46d18acec0",
   "metadata": {},
   "outputs": [],
   "source": []
  },
  {
   "cell_type": "markdown",
   "id": "107cbafa-8d29-4d1d-9d04-708951c4e1a4",
   "metadata": {},
   "source": [
    "# Select query with constraints\n",
    "#### SELECT column, another_column, …\n",
    "#### FROM mytable\n",
    "#### WHERE condition\n",
    "####     AND/OR another_condition\n",
    "####     AND/OR …;\n",
    "\n",
    "\n",
    "#### Operator\tCondition\tSQL Example\n",
    "#### =, !=, <, <=, >, >=\tStandard numerical operators\tcol_name != 4\n",
    "#### BETWEEN … AND …\tNumber is within range of two values (inclusive)\tcol_name BETWEEN 1.5 AND 10.5\n",
    "#### NOT BETWEEN … AND …\tNumber is not within range of two values (inclusive)\tcol_name NOT BETWEEN 1 AND 10\n",
    "#### IN (…)\tNumber exists in a list\tcol_name IN (2, 4, 6)\n",
    "#### NOT IN (…)\tNumber does not exist in a list\tcol_name NOT IN (1, 3, 5)\n",
    "\n",
    "\n",
    "### EXAMPLES\n",
    "#### SELECT * FROM movies WHERE id BETWEEN 0 AND 5;"
   ]
  },
  {
   "cell_type": "code",
   "execution_count": null,
   "id": "549b6485-0f72-4025-9e66-56680d6ffbbc",
   "metadata": {},
   "outputs": [],
   "source": []
  },
  {
   "cell_type": "markdown",
   "id": "37cf2b6f-827a-436c-8e10-950856324c1f",
   "metadata": {},
   "source": [
    "# SQL Lesson 3: Queries with constraints (Pt. 2)\n",
    "When writing WHERE clauses with columns containing text data, SQL supports a number of useful operators to do things like case-insensitive string comparison and wildcard pattern matching. We show a few common text-data specific operators below:\n",
    "\n",
    "= (case sensitive) LIKE (case insensitive) != (case sensitive incomparison) LIKE (case insensitive comparison) (these are exact)\n",
    "\n",
    "% (Used anywhere in a string to match a sequence of zero or more characters (only with LIKE or NOT LIKE)) \n",
    "\n",
    "col_name LIKE \"%AT%\"\n",
    "(matches \"AT\", \"ATTIC\", \"CAT\" or even \"BATS\")\n",
    "\n",
    "\"\\_\" Used anywhere in a string to match a single character (only with LIKE or NOT LIKE)\n",
    "\n",
    "col_name LIKE \"AN_\"\n",
    "(matches \"AND\", but not \"AN\")\n",
    "\n",
    "IN (…)\tString exists in a list\tcol_name IN (\"A\", \"B\", \"C\")\n",
    "\n",
    "NOT IN (…)\tString does not exist in a list\tcol_name NOT IN (\"D\", \"E\", \"F\")"
   ]
  },
  {
   "cell_type": "code",
   "execution_count": null,
   "id": "a9ebd4f1-6ff5-4c32-b34c-737e75f0e3f2",
   "metadata": {},
   "outputs": [],
   "source": []
  },
  {
   "cell_type": "markdown",
   "id": "7f8f611e-a9f6-4874-820f-c38ea6ce068d",
   "metadata": {},
   "source": [
    "# SQL Lesson 4: Filtering and sorting Query results\n",
    "\n",
    "Even though the data in a database may be unique, the results of any particular query may not be – take our Movies table for example, many different movies can be released the same year. In such cases, SQL provides a convenient way to discard rows that have a duplicate column value by using the **DISTINCT** keyword.\n",
    "\n",
    "SELECT DISTINCT column, another_column, …\n",
    "FROM mytable\n",
    "WHERE condition(s);\n",
    "\n",
    "## Ordering results\n",
    "\n",
    "Unlike our neatly ordered table in the last few lessons, most data in real databases are added in no particular column order. As a result, it can be difficult to read through and understand the results of a query as the size of a table increases to thousands or even millions rows.\n",
    "\n",
    "To help with this, SQL provides a way to sort your results by a given column in ascending or descending order using the **ORDER BY** clause.\n",
    "\n",
    "SELECT column, another_column, …\n",
    "FROM mytable\n",
    "WHERE condition(s)\n",
    "ORDER BY column ASC/DESC;\n",
    "\n",
    "## Limiting results to a subset\n",
    "\n",
    "Another clause which is commonly used with the **ORDER BY** clause are the **LIMIT** and **OFFSET** clauses, which are a useful optimization to indicate to the database the subset of the results you care about.\n",
    "The **LIMIT** will reduce the number of rows to return, and the optional **OFFSET** will specify where to begin counting the number rows from.\n",
    "\n",
    "SELECT column, another_column, …\n",
    "FROM mytable\n",
    "WHERE condition(s)\n",
    "ORDER BY column ASC/DESC\n",
    "LIMIT num_limit OFFSET num_offset;"
   ]
  },
  {
   "cell_type": "code",
   "execution_count": null,
   "id": "f024f1f4-0174-42a1-ad97-ea8a7d4dcd53",
   "metadata": {},
   "outputs": [],
   "source": []
  },
  {
   "cell_type": "markdown",
   "id": "0fbe431b-b730-4493-9bc6-ff4fce032e1e",
   "metadata": {},
   "source": [
    "# SQL Lesson 6: Multi-table queries with JOINs\n",
    "\n",
    "## Database normalization\n",
    "Database normalization is useful because it minimizes duplicate data in any single table, and allows for data in the database to grow independently of each other (ie. Types of car engines can grow independent of each type of car). As a trade-off, queries get slightly more complex since they have to be able to find data from different parts of the database, and performance issues can arise when working with many large tables.\n",
    "\n",
    "## Multi-table queries with JOINs\n",
    "Tables that share information about a single entity need to have a primary key that identifies that entity uniquely across the database. One common primary key type is an auto-incrementing integer (because they are space efficient), but it can also be a string, hashed value, so long as it is unique.\n",
    "\n",
    "\n",
    "Using the **JOIN** clause in a query, we can combine row data across two separate tables using this unique key. The first of the joins that we will introduce is the **INNER JOIN**.\n",
    "\n",
    "SELECT column, another_table_column, …\n",
    "FROM mytable\n",
    "INNER JOIN another_table \n",
    "    ON mytable.id = another_table.id\n",
    "WHERE condition(s)\n",
    "ORDER BY column, … ASC/DESC\n",
    "LIMIT num_limit OFFSET num_offset;\n",
    "\n",
    "The **INNER JOIN** is a process that matches rows from the first table and the second table which have the same key (as defined by the **ON** constraint) to create a result row with the combined columns from both tables. After the tables are joined, the other clauses we learned previously are then applied."
   ]
  },
  {
   "cell_type": "code",
   "execution_count": null,
   "id": "75f02f5c-9771-47bf-afad-aa78dbc60399",
   "metadata": {},
   "outputs": [],
   "source": []
  },
  {
   "cell_type": "markdown",
   "id": "7cfe42ea-7807-4382-ae19-6b1cfa699a33",
   "metadata": {},
   "source": [
    "# SQL Lesson 7: OUTER JOINs\n",
    "\n",
    "If the two tables have asymmetric data, which can easily happen when data is entered in different stages, then we would have to use a **LEFT JOIN**, **RIGHT JOIN** or **FULL JOIN** instead to ensure that the data you need is not left out of the results.\n",
    "\n",
    "SELECT column, another_column, …\n",
    "FROM mytable\n",
    "INNER/LEFT/RIGHT/FULL JOIN another_table \n",
    "    ON mytable.id = another_table.matching_id;\n",
    "\n",
    "\n",
    "Like the **INNER JOIN** these three new joins have to specify which column to join the data on.\n",
    "When joining table A to table B, a **LEFT JOIN** simply includes rows from A regardless of whether a matching row is found in B. The **RIGHT JOIN** is the same, but reversed, keeping rows in B regardless of whether a match is found in A. Finally, a **FULL JOIN** simply means that rows from both tables are kept, regardless of whether a matching row exists in the other table.\n",
    "\n",
    "When using any of these new joins, you will likely have to write additional logic to deal with **NULL**s in the result and constraints (more on this in the next lesson)."
   ]
  },
  {
   "cell_type": "markdown",
   "id": "bb19337e-02b4-4d6a-a50b-afe4da9402ac",
   "metadata": {},
   "source": [
    "SELECT DISTINCT building_name, role FROM buildings\n",
    "LEFT JOIN employees\n",
    "    ON buildings.building_name=employees.building;"
   ]
  },
  {
   "cell_type": "code",
   "execution_count": null,
   "id": "7368d360-5003-46ad-8e83-6c3400d4e8c3",
   "metadata": {},
   "outputs": [],
   "source": []
  },
  {
   "cell_type": "markdown",
   "id": "8e4bccb0-a0de-474d-b248-3538db43830c",
   "metadata": {},
   "source": [
    "# SQL Lesson 8: A short note on NULLs\n",
    "\n",
    "It's always good to reduce the possibility of **NULL** values in databases because they require special attention when constructing queries, constraints (certain functions behave differently with null values) and when processing the results.\n",
    "\n",
    "An alternative to **NULL** values in your database is to have **data-type appropriate default values**, like 0 for numerical data, empty strings for text data, etc. But if your database needs to store incomplete data, then NULL values can be appropriate if the default values will skew later analysis (for example, when taking averages of numerical data).\n",
    "\n",
    "Sometimes, it's also not possible to avoid **NULL** values, as we saw in the last lesson when outer-joining two tables with asymmetric data. In these cases, you can test a column for **NULL** values in a **WHERE** clause by using either the **IS NULL** or **IS NOT NULL** constraint.\n",
    "\n",
    "WHERE column IS/IS NOT NULL\n",
    "AND/OR another_condition\n",
    "AND/OR …"
   ]
  },
  {
   "cell_type": "markdown",
   "id": "59a1eb4c-50f0-403b-84b1-8c366be2212a",
   "metadata": {},
   "source": [
    "SELECT * \n",
    "FROM buildings\n",
    "LEFT JOIN employees\n",
    "    ON buildings.building_name=employees.building\n",
    "WHERE name IS NULL;"
   ]
  },
  {
   "cell_type": "code",
   "execution_count": null,
   "id": "32f2ebb3-e396-47e7-b0fb-187e5ccb1fcf",
   "metadata": {},
   "outputs": [],
   "source": []
  },
  {
   "cell_type": "markdown",
   "id": "acfc73d7-74c1-4d1e-b7aa-1ab9de6762da",
   "metadata": {},
   "source": [
    "# SQL Lesson 9: Queries with expressions\n",
    "\n",
    "In addition to querying and referencing raw column data with SQL, you can also use expressions to write more complex logic on column values in a query. These expressions can use mathematical and string functions along with basic arithmetic to transform values when the query is executed.\n",
    "\n",
    "SELECT particle_speed / 2.0 AS half_particle_speed FROM physics_data\n",
    "\n",
    "In addition to expressions, regular columns and even tables can also have aliases to make them easier to reference in the output and as a part of simplifying more complex queries.\n",
    "\n",
    "SELECT column AS better_column_name, … FROM a_long_widgets_table_name AS mywidgets INNER JOIN widget_sales ON mywidgets.id = widget_sales.widget_id;"
   ]
  },
  {
   "cell_type": "code",
   "execution_count": null,
   "id": "496dec3a-51fd-4ff4-a106-bf9075250558",
   "metadata": {},
   "outputs": [],
   "source": []
  },
  {
   "cell_type": "markdown",
   "id": "f8a2518d-b30b-4f55-a976-4871efc67b70",
   "metadata": {},
   "source": [
    "# SQL Lesson 10: Queries with aggregates (Pt. 1)\n",
    "\n",
    "SQL also supports the use of aggregate expressions (or functions) that allow you to summarize information about a group of rows of data. With the Pixar database that you've been using, aggregate functions can be used to answer questions like, \"How many movies has Pixar produced?\", or \"What is the highest grossing Pixar film each year?\".\n",
    "\n",
    "SELECT AGG_FUNC(column_or_expression) AS aggregate_description, …\n",
    "FROM mytable\n",
    "WHERE constraint_expression;\n",
    "\n",
    "### Common aggregate functions:\n",
    "\n",
    "**COUNT(\\* or column)** A common function used to counts the number of rows in the group if no column name is specified. Otherwise, count the number of rows in the group with non-NULL values in the specified column.\n",
    "\n",
    "**MIN(column)** Finds the smallest numerical value in the specified column for all rows in the group.\n",
    "\n",
    "**MAX(column)** Finds the largest numerical value in the specified column for all rows in the group.\n",
    "\n",
    "**SUM(column)** Finds the sum of all numerical values in the specified column for the rows in the group.\n",
    "\n",
    "**AVG(column)** Finds the average numerical value in the specified column for all rows in the group.\n",
    "\n",
    "### Grouped aggregate functions\n",
    "You can apply the aggregate functions to individual groups of data within that group (ie. box office sales for Comedies vs Action movies).\n",
    "This would then create as many results as there are unique groups defined as by the **GROUP BY** clause.\n",
    "\n",
    "SELECT AGG_FUNC(column_or_expression) AS aggregate_description, …\n",
    "FROM mytable\n",
    "WHERE constraint_expression\n",
    "GROUP BY column;\n",
    "\n",
    "The **GROUP BY** clause works by grouping rows that have the same value in the column specified."
   ]
  },
  {
   "cell_type": "markdown",
   "id": "b4935270-667e-43d9-9ae9-d27956010e07",
   "metadata": {},
   "source": [
    "### example\n",
    "Find the total number of employee years worked in each building\n",
    "\n",
    "SELECT *, SUM(years_employed)\n",
    "FROM employees\n",
    "GROUP BY building;"
   ]
  },
  {
   "cell_type": "code",
   "execution_count": null,
   "id": "be514b3d-d621-4112-892e-00acd2a918eb",
   "metadata": {},
   "outputs": [],
   "source": []
  },
  {
   "cell_type": "markdown",
   "id": "92672e9f-a24c-48b6-956b-b0f5690798dc",
   "metadata": {},
   "source": [
    "# SQL Lesson 11: Queries with aggregates (Pt. 2)\n",
    "One thing that you might have noticed is that if the GROUP BY clause is executed after the WHERE clause (which filters the rows which are to be grouped), then how exactly do we filter the grouped rows?\n",
    "\n",
    "Luckily, SQL allows us to do this by adding an additional **HAVING** clause which is used specifically with the **GROUP BY** clause to allow us to filter grouped rows from the result set.\n",
    "\n",
    "SELECT group_by_column, AGG_FUNC(column_expression) AS aggregate_result_alias, …\n",
    "FROM mytable\n",
    "WHERE condition\n",
    "GROUP BY column\n",
    "HAVING group_condition;\n",
    "\n",
    "The **HAVING** clause constraints are written the same way as the **WHERE** clause constraints, and are applied to the grouped rows."
   ]
  },
  {
   "cell_type": "markdown",
   "id": "7d98b290-888b-48e0-b97c-e6796655e768",
   "metadata": {},
   "source": [
    "### example\n",
    "Find the total number of years employed by all Engineers\n",
    "\n",
    "SELECT *, SUM(years_employed) AS totalyears\n",
    "FROM employees\n",
    "GROUP BY role\n",
    "HAVING role=\"Engineer\";"
   ]
  },
  {
   "cell_type": "code",
   "execution_count": null,
   "id": "c7cae7e9-7d0f-4b41-b003-8cf4a8511c22",
   "metadata": {},
   "outputs": [],
   "source": []
  },
  {
   "cell_type": "markdown",
   "id": "9a7220bc-ee1a-4d43-adc9-2b16e27c2fe9",
   "metadata": {},
   "source": [
    "# SQL Lesson 12: Order of execution of a Query\n",
    "\n",
    "- FROM and JOIN\n",
    "- WHERE \n",
    "- GROUP BY\n",
    "- HAVING\n",
    "- SELECT\n",
    "- DISTINCT\n",
    "- ORDER BY\n",
    "- LIMIT / OFFSET"
   ]
  },
  {
   "cell_type": "code",
   "execution_count": null,
   "id": "118783ca-a2b6-4459-846c-198625d3861c",
   "metadata": {},
   "outputs": [],
   "source": []
  },
  {
   "cell_type": "markdown",
   "id": "964092f4-421c-4537-b041-290b9425f38d",
   "metadata": {},
   "source": [
    "## overall example\n",
    "\n",
    "Find the total domestic and international sales that can be attributed to each director \n",
    "\n",
    "SELECT director, SUM(domestic_sales + international_sales) as Cumulative_sales_from_all_movies\n",
    "FROM movies\n",
    "    INNER JOIN boxoffice\n",
    "        ON movies.id = boxoffice.movie_id\n",
    "GROUP BY director;"
   ]
  },
  {
   "cell_type": "code",
   "execution_count": null,
   "id": "03adfcf5-d603-40a7-8f42-88858be4e736",
   "metadata": {},
   "outputs": [],
   "source": []
  },
  {
   "cell_type": "markdown",
   "id": "c0493a3d-d972-4932-bc3a-d7c8e9b95f8c",
   "metadata": {},
   "source": [
    "# Date Functions\n",
    "- strftime('%Y-%m', InvoiceDate):\n",
    "\n",
    "This function converts the InvoiceDate to the YYYY-MM format. For example, 2023-10-15 becomes 2023-10.\n",
    "\n",
    "- julianday():\n",
    "\n",
    "This function represents a date as a Julian day number. The Julian day number is the number of days since January 1, 4713 BC. For example, 2023-10-15 might return approximately 2460244.5."
   ]
  },
  {
   "cell_type": "markdown",
   "id": "a4b67baf-583e-41fc-997f-cfd2501fbc8d",
   "metadata": {},
   "source": [
    "To calculate the difference in months between two dates\n",
    "\n",
    "SELECT \n",
    "    strftime('%Y-%m', InvoiceDate2) - strftime('%Y-%m', InvoiceDate1) AS MonthDifference\n",
    "FROM \n",
    "    TableName\n",
    "WHERE \n",
    "    InvoiceDate1 IS NOT NULL AND InvoiceDate2 IS NOT NULL;\n",
    "\n",
    "Here, InvoiceDate1 and InvoiceDate2 are date fields. This query will compute the difference in months for each record."
   ]
  },
  {
   "cell_type": "markdown",
   "id": "3da98653-c8f9-423f-8697-e987cfab1266",
   "metadata": {},
   "source": [
    "# Subqueries / CTEs (WITH)\n",
    "\n",
    "### Subquery Example\n",
    "SELECT \n",
    "    InvoiceID, \n",
    "    InvoiceDate,\n",
    "    (SELECT julianday(InvoiceDate) FROM TableName WHERE InvoiceID = t.InvoiceID) AS JulianDay\n",
    "FROM \n",
    "    TableName t\n",
    "WHERE \n",
    "    InvoiceDate BETWEEN '2023-01-01' AND '2023-12-31';\n",
    "\n",
    "In this query, the Julian day for each invoice is calculated and added to the JulianDay field.\n",
    "\n",
    "### CTE Example\n",
    "A CTE defines a temporary result set which you can reference within a SELECT, INSERT, UPDATE, or DELETE statement.\n",
    "\n",
    "WITH DateDifferences AS (\n",
    "    SELECT \n",
    "        InvoiceID,\n",
    "        InvoiceDate,\n",
    "        strftime('%Y-%m', InvoiceDate) AS Month\n",
    "    FROM \n",
    "        TableName\n",
    ")\n",
    "SELECT \n",
    "    InvoiceID,\n",
    "    Month,\n",
    "    COUNT(*) AS InvoiceCount\n",
    "FROM \n",
    "    DateDifferences\n",
    "GROUP BY \n",
    "    InvoiceID, Month;\n",
    "\n",
    "This CTE calculates the number of invoices per month for each invoice. The DateDifferences CTE is then used in the main query for simplicity."
   ]
  },
  {
   "cell_type": "code",
   "execution_count": null,
   "id": "f881f750-c64d-4ced-b111-a15c66141bdf",
   "metadata": {},
   "outputs": [],
   "source": []
  },
  {
   "cell_type": "markdown",
   "id": "86096cc8-739d-4ab7-bbaf-eee2c02b2b26",
   "metadata": {},
   "source": [
    "### mini cheat-sheat\n",
    "- Grup + metrik: SELECT col, SUM(x) FROM T GROUP BY col\n",
    "- Oran: SUM(CASE WHEN cond THEN 1 ELSE 0 END)1.0 / COUNT() AS rate\n",
    "- Toplam pay: SUM(x)/SUM(SUM(x)) OVER () (SQLite’ta pencere yoksa CTE ile total’ı çapraz birleştir)"
   ]
  },
  {
   "cell_type": "code",
   "execution_count": null,
   "id": "4b00a94c-892d-42fe-acc8-bcb0f9912fe8",
   "metadata": {},
   "outputs": [],
   "source": []
  }
 ],
 "metadata": {
  "kernelspec": {
   "display_name": "Python (ds-bootcamp)",
   "language": "python",
   "name": "ds-bootcamp"
  },
  "language_info": {
   "codemirror_mode": {
    "name": "ipython",
    "version": 3
   },
   "file_extension": ".py",
   "mimetype": "text/x-python",
   "name": "python",
   "nbconvert_exporter": "python",
   "pygments_lexer": "ipython3",
   "version": "3.13.7"
  }
 },
 "nbformat": 4,
 "nbformat_minor": 5
}
