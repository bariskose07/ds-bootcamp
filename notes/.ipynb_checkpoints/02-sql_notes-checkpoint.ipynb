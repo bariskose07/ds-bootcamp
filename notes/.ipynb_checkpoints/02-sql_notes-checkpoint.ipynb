{
 "cells": [
  {
   "cell_type": "markdown",
   "id": "b8b55d3d-02ea-417b-8372-384fc5d1bfa6",
   "metadata": {},
   "source": [
    "# Select query for a specific columns\n",
    "#### SELECT column, another_column, …\n",
    "#### FROM mytable;"
   ]
  },
  {
   "cell_type": "code",
   "execution_count": null,
   "id": "8e6f4557-ab69-4261-a46c-3d46d18acec0",
   "metadata": {},
   "outputs": [],
   "source": []
  },
  {
   "cell_type": "markdown",
   "id": "107cbafa-8d29-4d1d-9d04-708951c4e1a4",
   "metadata": {},
   "source": [
    "# Select query with constraints\n",
    "#### SELECT column, another_column, …\n",
    "#### FROM mytable\n",
    "#### WHERE condition\n",
    "####     AND/OR another_condition\n",
    "####     AND/OR …;\n",
    "\n",
    "\n",
    "#### Operator\tCondition\tSQL Example\n",
    "#### =, !=, <, <=, >, >=\tStandard numerical operators\tcol_name != 4\n",
    "#### BETWEEN … AND …\tNumber is within range of two values (inclusive)\tcol_name BETWEEN 1.5 AND 10.5\n",
    "#### NOT BETWEEN … AND …\tNumber is not within range of two values (inclusive)\tcol_name NOT BETWEEN 1 AND 10\n",
    "#### IN (…)\tNumber exists in a list\tcol_name IN (2, 4, 6)\n",
    "#### NOT IN (…)\tNumber does not exist in a list\tcol_name NOT IN (1, 3, 5)\n",
    "\n",
    "\n",
    "### EXAMPLES\n",
    "#### SELECT * FROM movies WHERE id BETWEEN 0 AND 5;"
   ]
  },
  {
   "cell_type": "code",
   "execution_count": null,
   "id": "549b6485-0f72-4025-9e66-56680d6ffbbc",
   "metadata": {},
   "outputs": [],
   "source": []
  },
  {
   "cell_type": "markdown",
   "id": "37cf2b6f-827a-436c-8e10-950856324c1f",
   "metadata": {},
   "source": [
    "# SQL Lesson 3: Queries with constraints (Pt. 2)\n",
    "When writing WHERE clauses with columns containing text data, SQL supports a number of useful operators to do things like case-insensitive string comparison and wildcard pattern matching. We show a few common text-data specific operators below:\n",
    "\n",
    "= (case sensitive) LIKE (case insensitive) != (case sensitive incomparison) LIKE (case insensitive comparison) (these are exact)\n",
    "\n",
    "% (Used anywhere in a string to match a sequence of zero or more characters (only with LIKE or NOT LIKE)) \n",
    "\n",
    "col_name LIKE \"%AT%\"\n",
    "(matches \"AT\", \"ATTIC\", \"CAT\" or even \"BATS\")\n",
    "\n",
    "\"\\_\" Used anywhere in a string to match a single character (only with LIKE or NOT LIKE)\n",
    "\n",
    "col_name LIKE \"AN_\"\n",
    "(matches \"AND\", but not \"AN\")\n",
    "\n",
    "IN (…)\tString exists in a list\tcol_name IN (\"A\", \"B\", \"C\")\n",
    "\n",
    "NOT IN (…)\tString does not exist in a list\tcol_name NOT IN (\"D\", \"E\", \"F\")"
   ]
  },
  {
   "cell_type": "code",
   "execution_count": null,
   "id": "a9ebd4f1-6ff5-4c32-b34c-737e75f0e3f2",
   "metadata": {},
   "outputs": [],
   "source": []
  },
  {
   "cell_type": "markdown",
   "id": "7f8f611e-a9f6-4874-820f-c38ea6ce068d",
   "metadata": {},
   "source": [
    "# SQL Lesson 4: Filtering and sorting Query results\n",
    "\n",
    "Even though the data in a database may be unique, the results of any particular query may not be – take our Movies table for example, many different movies can be released the same year. In such cases, SQL provides a convenient way to discard rows that have a duplicate column value by using the **DISTINCT** keyword.\n",
    "\n",
    "SELECT DISTINCT column, another_column, …\n",
    "FROM mytable\n",
    "WHERE condition(s);\n",
    "\n",
    "## Ordering results\n",
    "\n",
    "Unlike our neatly ordered table in the last few lessons, most data in real databases are added in no particular column order. As a result, it can be difficult to read through and understand the results of a query as the size of a table increases to thousands or even millions rows.\n",
    "\n",
    "To help with this, SQL provides a way to sort your results by a given column in ascending or descending order using the **ORDER BY** clause.\n",
    "\n",
    "SELECT column, another_column, …\n",
    "FROM mytable\n",
    "WHERE condition(s)\n",
    "ORDER BY column ASC/DESC;\n",
    "\n",
    "## Limiting results to a subset\n",
    "\n",
    "Another clause which is commonly used with the **ORDER BY** clause are the **LIMIT** and **OFFSET** clauses, which are a useful optimization to indicate to the database the subset of the results you care about.\n",
    "The **LIMIT** will reduce the number of rows to return, and the optional **OFFSET** will specify where to begin counting the number rows from.\n",
    "\n",
    "SELECT column, another_column, …\n",
    "FROM mytable\n",
    "WHERE condition(s)\n",
    "ORDER BY column ASC/DESC\n",
    "LIMIT num_limit OFFSET num_offset;"
   ]
  },
  {
   "cell_type": "code",
   "execution_count": null,
   "id": "f024f1f4-0174-42a1-ad97-ea8a7d4dcd53",
   "metadata": {},
   "outputs": [],
   "source": []
  },
  {
   "cell_type": "markdown",
   "id": "0fbe431b-b730-4493-9bc6-ff4fce032e1e",
   "metadata": {},
   "source": [
    "# SQL Lesson 6: Multi-table queries with JOINs\n",
    "\n",
    "## Database normalization\n",
    "Database normalization is useful because it minimizes duplicate data in any single table, and allows for data in the database to grow independently of each other (ie. Types of car engines can grow independent of each type of car). As a trade-off, queries get slightly more complex since they have to be able to find data from different parts of the database, and performance issues can arise when working with many large tables.\n",
    "\n",
    "## Multi-table queries with JOINs\n",
    "Tables that share information about a single entity need to have a primary key that identifies that entity uniquely across the database. One common primary key type is an auto-incrementing integer (because they are space efficient), but it can also be a string, hashed value, so long as it is unique.\n",
    "\n",
    "\n",
    "Using the **JOIN** clause in a query, we can combine row data across two separate tables using this unique key. The first of the joins that we will introduce is the **INNER JOIN**.\n",
    "\n",
    "SELECT column, another_table_column, …\n",
    "FROM mytable\n",
    "INNER JOIN another_table \n",
    "    ON mytable.id = another_table.id\n",
    "WHERE condition(s)\n",
    "ORDER BY column, … ASC/DESC\n",
    "LIMIT num_limit OFFSET num_offset;\n",
    "\n",
    "The **INNER JOIN** is a process that matches rows from the first table and the second table which have the same key (as defined by the **ON** constraint) to create a result row with the combined columns from both tables. After the tables are joined, the other clauses we learned previously are then applied."
   ]
  },
  {
   "cell_type": "code",
   "execution_count": null,
   "id": "75f02f5c-9771-47bf-afad-aa78dbc60399",
   "metadata": {},
   "outputs": [],
   "source": []
  },
  {
   "cell_type": "markdown",
   "id": "7cfe42ea-7807-4382-ae19-6b1cfa699a33",
   "metadata": {},
   "source": [
    "# SQL Lesson 7: OUTER JOINs\n",
    "\n",
    "If the two tables have asymmetric data, which can easily happen when data is entered in different stages, then we would have to use a **LEFT JOIN**, **RIGHT JOIN** or **FULL JOIN** instead to ensure that the data you need is not left out of the results.\n",
    "\n",
    "SELECT column, another_column, …\n",
    "FROM mytable\n",
    "INNER/LEFT/RIGHT/FULL JOIN another_table \n",
    "    ON mytable.id = another_table.matching_id;\n",
    "\n",
    "\n",
    "Like the **INNER JOIN** these three new joins have to specify which column to join the data on.\n",
    "When joining table A to table B, a **LEFT JOIN** simply includes rows from A regardless of whether a matching row is found in B. The **RIGHT JOIN** is the same, but reversed, keeping rows in B regardless of whether a match is found in A. Finally, a **FULL JOIN** simply means that rows from both tables are kept, regardless of whether a matching row exists in the other table.\n",
    "\n",
    "When using any of these new joins, you will likely have to write additional logic to deal with **NULL**s in the result and constraints (more on this in the next lesson).\n",
    "\n",
    "SELECT DISTINCT building_name, role  \n",
    "FROM buildings\n",
    "LEFT JOIN employees\n",
    "    ON buildings.building_name=employees.building;"
   ]
  },
  {
   "cell_type": "code",
   "execution_count": null,
   "id": "95bbcfac-a754-4d44-bf0c-3b07cd13dcfb",
   "metadata": {},
   "outputs": [],
   "source": []
  }
 ],
 "metadata": {
  "kernelspec": {
   "display_name": "Python (ds-bootcamp)",
   "language": "python",
   "name": "ds-bootcamp"
  },
  "language_info": {
   "codemirror_mode": {
    "name": "ipython",
    "version": 3
   },
   "file_extension": ".py",
   "mimetype": "text/x-python",
   "name": "python",
   "nbconvert_exporter": "python",
   "pygments_lexer": "ipython3",
   "version": "3.13.7"
  }
 },
 "nbformat": 4,
 "nbformat_minor": 5
}
