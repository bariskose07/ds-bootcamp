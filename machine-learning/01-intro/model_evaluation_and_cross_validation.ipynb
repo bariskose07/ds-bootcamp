{
 "cells": [
  {
   "cell_type": "markdown",
   "id": "56ef3146-ef1f-4095-b035-9302a6a884e2",
   "metadata": {},
   "source": [
    "# Model Evaluation and Cross Validation"
   ]
  },
  {
   "cell_type": "markdown",
   "id": "0a3181c4-b528-4ef4-b3f8-52308b82d822",
   "metadata": {},
   "source": [
    "## Model Evaluation Metrics for Regression and Classification"
   ]
  },
  {
   "cell_type": "markdown",
   "id": "4d2d73e0-0e8b-40ad-b614-7a56d41b0337",
   "metadata": {},
   "source": [
    "### Model Evaluation for Regression\n",
    "#### Mean Squared Error(MSE)\n",
    "- Measures the average squared difference between predicted and actual data.\n",
    "- Sensitive to outliers due to squaring of errors.\n",
    "#### Mean Absolute Error(MAE)\n",
    "- Measures the average absolute difference between predicted and actual data.\n",
    "- Provides a more interpretable measure but less but less sensitive to outliers.\n",
    "#### Root Mean Squared Error(RMSE)\n",
    "- Square root of MSE, providing errors in the same units as the target variable."
   ]
  },
  {
   "cell_type": "markdown",
   "id": "5b27f698-1530-4887-9c3b-fba36d432d57",
   "metadata": {},
   "source": [
    "### Model Evaluation for Classification\n",
    "#### Accuracy\n",
    "- Proportion of correctly predicted instances.\n",
    "- Useful when the dataset is balanced.\n",
    "#### Precision\n",
    "- Fraction of Positive predictions that are correct.\n",
    "- Important for applications like fraud detection, where false positives are costly.\n",
    "#### Recall(Sensitivity)\n",
    "- Fraction of actual postives that arre correctly identified\n",
    "- Useful in cases where missing positive instances is critical.\n",
    "\n",
    "<img src=\"img/metrics_for_classification.png\" width=400>\n",
    "\n",
    "#### F1 Score\n",
    "- Harmonic mean of precision and recall.\n",
    "- Balances precision and recall, especially useful for imbalanced datasets."
   ]
  },
  {
   "cell_type": "markdown",
   "id": "cdea961c-4b4a-45d2-8783-4e1656a25e6b",
   "metadata": {},
   "source": [
    "## Introduction to Cross-Validation\n",
    "### Key Cross-Validation Techniques\n",
    "**K-Fold Cross-Validation**\n",
    "- Splits the dataset into K equal parts\n",
    "- Trains the model on K − 1 folds and tests on the remaining fold, repeating the process & times\n",
    "- The average of the K test scores provides the final evaluation metric\n",
    "\n",
    "**Stratified K-Fold**\n",
    "- Ensures each fold has a proportional representation of classes in classification problems\n",
    "\n",
    "**Leave-One-Out Cross-Validation**\n",
    "- Trains the model on n − 1 samples and tests on the remaining one. Repeated for all samples\n",
    "- Computationally expensive for large datasets\n",
    "### Advantages\n",
    "- Reduces the risk of overfitting by testing on multiple subsets of data\n",
    "- Provides a more generalized evaluation of model performance."
   ]
  },
  {
   "cell_type": "markdown",
   "id": "fb989769-4692-462a-abe8-7949b5334440",
   "metadata": {},
   "source": [
    "## Understanding the Confusion Matrix\n",
    "The confusion matrix is a table that summarizes the performance of a classification model by comparing predicted and actual values.\n",
    "\n",
    "<img src=\"img/confusion_matrix.png\" width=400>"
   ]
  },
  {
   "cell_type": "code",
   "execution_count": 1,
   "id": "a5a725fb-8b8e-4347-8b7d-5a9f3ba8797e",
   "metadata": {},
   "outputs": [
    {
     "name": "stdout",
     "output_type": "stream",
     "text": [
      "Cross-Validation Scores:  [1.         0.96666667 0.93333333 0.93333333 0.96666667]\n",
      "Mean Accuracy:  0.9600000000000002\n"
     ]
    }
   ],
   "source": [
    "# Cross Validation\n",
    "from sklearn.datasets import load_iris\n",
    "from sklearn.model_selection import cross_val_score, KFold\n",
    "from sklearn.ensemble import RandomForestClassifier\n",
    "\n",
    "data = load_iris()\n",
    "X, y = data.data, data.target\n",
    "\n",
    "model = RandomForestClassifier(random_state=42)\n",
    "\n",
    "# Perform K-Fold Cross-Validation\n",
    "kf = KFold(n_splits=5, shuffle=True, random_state=42)\n",
    "cv_scores = cross_val_score(model, X, y, cv=kf, scoring=\"accuracy\")\n",
    "\n",
    "print(\"Cross-Validation Scores: \", cv_scores)\n",
    "print(\"Mean Accuracy: \", cv_scores.mean())"
   ]
  },
  {
   "cell_type": "code",
   "execution_count": 2,
   "id": "27bffcbc-94a0-4a47-a6db-52a9c07f90b2",
   "metadata": {},
   "outputs": [
    {
     "data": {
      "image/png": "[encoded data removed]",
      "text/plain": [
       "<Figure size 640x480 with 2 Axes>"
      ]
     },
     "metadata": {},
     "output_type": "display_data"
    },
    {
     "name": "stdout",
     "output_type": "stream",
     "text": [
      "\n",
      "Classification Report:\n",
      "               precision    recall  f1-score   support\n",
      "\n",
      "           0       1.00      1.00      1.00        11\n",
      "           1       0.90      0.90      0.90        10\n",
      "           2       0.89      0.89      0.89         9\n",
      "\n",
      "    accuracy                           0.93        30\n",
      "   macro avg       0.93      0.93      0.93        30\n",
      "weighted avg       0.93      0.93      0.93        30\n",
      "\n"
     ]
    }
   ],
   "source": [
    "# Generating Confusion Matrix\n",
    "from sklearn.linear_model import LogisticRegression\n",
    "from sklearn.metrics import confusion_matrix, ConfusionMatrixDisplay, classification_report\n",
    "from sklearn.model_selection import train_test_split\n",
    "import matplotlib.pyplot as plt\n",
    "\n",
    "X_train, X_test, y_train, y_test = train_test_split(X, y, test_size=0.2)\n",
    "\n",
    "logistic_model = LogisticRegression(max_iter=200)\n",
    "logistic_model.fit(X_train, y_train)\n",
    "\n",
    "y_pred = logistic_model.predict(X_test)\n",
    "\n",
    "# Confusing Matrix\n",
    "cm = confusion_matrix(y_test, y_pred)\n",
    "\n",
    "disp = ConfusionMatrixDisplay(confusion_matrix=cm, display_labels=data.target_names)\n",
    "disp.plot(cmap=\"Blues\")\n",
    "plt.show()\n",
    "\n",
    "print(\"\\nClassification Report:\\n\", classification_report(y_test, y_pred))"
   ]
  },
  {
   "cell_type": "code",
   "execution_count": null,
   "id": "8d45bc28-71f3-4ced-872d-2020e35fc24b",
   "metadata": {},
   "outputs": [],
   "source": []
  }
 ],
 "metadata": {
  "kernelspec": {
   "display_name": "Python (ds-bootcamp)",
   "language": "python",
   "name": "ds-bootcamp"
  },
  "language_info": {
   "codemirror_mode": {
    "name": "ipython",
    "version": 3
   },
   "file_extension": ".py",
   "mimetype": "text/x-python",
   "name": "python",
   "nbconvert_exporter": "python",
   "pygments_lexer": "ipython3",
   "version": "3.13.7"
  }
 },
 "nbformat": 4,
 "nbformat_minor": 5
}
